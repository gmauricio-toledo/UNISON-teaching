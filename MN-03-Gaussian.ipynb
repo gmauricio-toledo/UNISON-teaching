{
 "cells": [
  {
   "cell_type": "code",
   "execution_count": 13,
   "metadata": {},
   "outputs": [],
   "source": [
    "import numpy as np\n",
    "from math import floor"
   ]
  },
  {
   "cell_type": "code",
   "execution_count": 58,
   "metadata": {},
   "outputs": [
    {
     "name": "stdout",
     "output_type": "stream",
     "text": [
      "[[6 9]\n",
      " [2 1]]\n",
      "[[3]\n",
      " [7]]\n",
      "[ 5. -3.]\n"
     ]
    }
   ],
   "source": [
    "dim = 2\n",
    "n = 9\n",
    "opciones = list(range(1,n+1))\n",
    "\n",
    "def check(x):\n",
    "    s = False\n",
    "    for x in X:\n",
    "        if x-floor(x)==0:\n",
    "            s = True\n",
    "        else:\n",
    "            s = False\n",
    "            break\n",
    "    return s\n",
    "\n",
    "for k in range(1000):\n",
    "    A = np.random.choice(opciones,size=(dim,dim),replace=True)\n",
    "    b = np.random.choice(opciones,size=(dim,),replace=True)\n",
    "    try:\n",
    "        X = np.linalg.inv(A)@b\n",
    "    except:\n",
    "        break\n",
    "    if check(X):\n",
    "        print(A)\n",
    "        print(b.reshape((dim,1)))\n",
    "        print(X)\n",
    "        break\n"
   ]
  },
  {
   "cell_type": "code",
   "execution_count": null,
   "metadata": {},
   "outputs": [],
   "source": []
  },
  {
   "cell_type": "code",
   "execution_count": null,
   "metadata": {},
   "outputs": [],
   "source": []
  }
 ],
 "metadata": {
  "kernelspec": {
   "display_name": "Python 3.8.10 64-bit",
   "language": "python",
   "name": "python3"
  },
  "language_info": {
   "codemirror_mode": {
    "name": "ipython",
    "version": 3
   },
   "file_extension": ".py",
   "mimetype": "text/x-python",
   "name": "python",
   "nbconvert_exporter": "python",
   "pygments_lexer": "ipython3",
   "version": "3.8.10"
  },
  "orig_nbformat": 4,
  "vscode": {
   "interpreter": {
    "hash": "916dbcbb3f70747c44a77c7bcd40155683ae19c65e1c03b4aa3499c5328201f1"
   }
  }
 },
 "nbformat": 4,
 "nbformat_minor": 2
}
