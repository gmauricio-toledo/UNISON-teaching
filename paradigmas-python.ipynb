{
 "cells": [
  {
   "cell_type": "markdown",
   "metadata": {},
   "source": [
    "# Imperativo"
   ]
  },
  {
   "cell_type": "code",
   "execution_count": null,
   "metadata": {},
   "outputs": [],
   "source": [
    "x_0 = -2\n",
    "x_1 = -1\n",
    "tolerancia = 0.00001\n",
    "\n",
    "x_m = x_0\n",
    "error = 1\n",
    "while (error>tolerancia):\n",
    "    x_m_old = x_m\n",
    "    x_m = (x_0+x_1)/2\n",
    "    if x_m != 0:\n",
    "        error = error_relativo(x_m,x_m_old)\n",
    "    test = f(x_0)*f(x_m)\n",
    "    if test<0:        \n",
    "        x_1 = x_m\n",
    "    elif test>0:\n",
    "        x_0 = x_m\n",
    "    else:\n",
    "        error = 0\n",
    "    \n",
    "solucion = x_m"
   ]
  },
  {
   "cell_type": "markdown",
   "metadata": {},
   "source": [
    "# Funcional"
   ]
  },
  {
   "cell_type": "code",
   "execution_count": null,
   "metadata": {},
   "outputs": [],
   "source": [
    "def biseccion(f,xl,xu,tol):\n",
    "    x_m = xl\n",
    "    error = 2*tol\n",
    "    n_iteraciones = 0\n",
    "    while (error>tol):\n",
    "        n_iteraciones += 1\n",
    "        x_m_old = x_m\n",
    "        x_m = (xl+xu)/2\n",
    "        if x_m != 0:\n",
    "            error = error_relativo(x_m,x_m_old)\n",
    "        test = f(xl)*f(x_m)\n",
    "        if test<0:\n",
    "            xu = x_m\n",
    "        elif test>0:\n",
    "            xl = x_m\n",
    "        else:\n",
    "            error = 0\n",
    "    return {'raiz': x_m,\n",
    "            'error': error,\n",
    "            'iteraciones': n_iteraciones\n",
    "            }\n",
    "\n",
    "solucion = biseccion(f,0,1,0.00001)"
   ]
  },
  {
   "cell_type": "markdown",
   "metadata": {},
   "source": [
    "# Orientado a objetos"
   ]
  },
  {
   "cell_type": "code",
   "execution_count": null,
   "metadata": {},
   "outputs": [],
   "source": [
    "from roots import RootFinder\n",
    "\n",
    "rf_bs = RootFinder()\n",
    "root_bs = rf_bs.fit(f,\n",
    "                    x0=0,\n",
    "                    x1=1,\n",
    "                    tolerance=0.001,\n",
    "                    method='bisection')\n",
    "\n",
    "solucion = rf_bs.root"
   ]
  }
 ],
 "metadata": {
  "language_info": {
   "name": "python"
  },
  "orig_nbformat": 4
 },
 "nbformat": 4,
 "nbformat_minor": 2
}
