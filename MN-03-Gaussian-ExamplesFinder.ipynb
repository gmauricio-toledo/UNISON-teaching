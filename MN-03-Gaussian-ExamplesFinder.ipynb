{
 "cells": [
  {
   "cell_type": "code",
   "execution_count": 1,
   "metadata": {},
   "outputs": [],
   "source": [
    "import numpy as np\n",
    "from math import floor"
   ]
  },
  {
   "cell_type": "code",
   "execution_count": 20,
   "metadata": {},
   "outputs": [
    {
     "name": "stdout",
     "output_type": "stream",
     "text": [
      "[-0.14811617 -0.43367886 -1.77258141 -0.63739394]\n"
     ]
    },
    {
     "data": {
      "text/plain": [
       "True"
      ]
     },
     "execution_count": 20,
     "metadata": {},
     "output_type": "execute_result"
    }
   ],
   "source": [
    "X = np.random.normal(loc=0,scale=1,size=(4,))\n",
    "print(X)\n"
   ]
  },
  {
   "cell_type": "code",
   "execution_count": 21,
   "metadata": {},
   "outputs": [
    {
     "name": "stdout",
     "output_type": "stream",
     "text": [
      "Matriz A:\n",
      " [[ 4  6  4  4]\n",
      " [ 5  8  0  8]\n",
      " [ 8 -2  0  6]\n",
      " [-4  6  6 -2]]\n",
      "Lado derecho b:\n",
      " [[ 8]\n",
      " [-9]\n",
      " [ 6]\n",
      " [ 6]]\n",
      "Solución:\n",
      " [ 3.  0.  2. -3.]\n"
     ]
    }
   ],
   "source": [
    "dim = 4\n",
    "N = 9   # cota del valor absoluto de los coeficientes\n",
    "norma_max = 20\n",
    "opciones = list(range(-N,N+1))\n",
    "\n",
    "\n",
    "def are_integers(x):\n",
    "    s = False\n",
    "    for x in X:\n",
    "        if x-floor(x)==0:\n",
    "            s = True\n",
    "        else:\n",
    "            s = False\n",
    "            break\n",
    "    return s\n",
    "\n",
    "def is_smaller_enough(X):\n",
    "    return bool(np.prod(X<norma_max))\n",
    "\n",
    "\n",
    "found = False\n",
    "while not found:\n",
    "    A = np.random.choice(opciones,size=(dim,dim),replace=True)\n",
    "    b = np.random.choice(opciones,size=(dim,),replace=True)\n",
    "    try:\n",
    "        X = np.linalg.inv(A)@b\n",
    "    except:\n",
    "        pass\n",
    "    if are_integers(X) and is_smaller_enough(X):\n",
    "        print(\"Matriz A:\\n\",A)\n",
    "        print(\"Lado derecho b:\\n\",b.reshape((dim,1)))\n",
    "        print(\"Solución:\\n\",X)\n",
    "        found = True\n"
   ]
  },
  {
   "cell_type": "code",
   "execution_count": null,
   "metadata": {},
   "outputs": [],
   "source": []
  }
 ],
 "metadata": {
  "kernelspec": {
   "display_name": "Python 3.8.10 64-bit",
   "language": "python",
   "name": "python3"
  },
  "language_info": {
   "codemirror_mode": {
    "name": "ipython",
    "version": 3
   },
   "file_extension": ".py",
   "mimetype": "text/x-python",
   "name": "python",
   "nbconvert_exporter": "python",
   "pygments_lexer": "ipython3",
   "version": "3.8.10"
  },
  "orig_nbformat": 4,
  "vscode": {
   "interpreter": {
    "hash": "916dbcbb3f70747c44a77c7bcd40155683ae19c65e1c03b4aa3499c5328201f1"
   }
  }
 },
 "nbformat": 4,
 "nbformat_minor": 2
}
