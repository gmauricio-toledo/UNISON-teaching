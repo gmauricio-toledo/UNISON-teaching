{
 "cells": [
  {
   "cell_type": "code",
   "execution_count": 2,
   "metadata": {},
   "outputs": [],
   "source": [
    "import numpy as np\n",
    "from math import floor"
   ]
  },
  {
   "cell_type": "code",
   "execution_count": 27,
   "metadata": {},
   "outputs": [
    {
     "name": "stdout",
     "output_type": "stream",
     "text": [
      "[[-3  1  1  1  4]\n",
      " [ 3 -8  3 -3  1]\n",
      " [ 2  8 -7  5 -5]\n",
      " [-3  4 -9  5  1]\n",
      " [ 1  7  1 -1 -7]]\n",
      "[[-9]\n",
      " [-4]\n",
      " [-3]\n",
      " [-7]\n",
      " [-2]]\n",
      "[ 6.48064403e+16  5.70296674e+16 -5.05490234e+16 -1.12763206e+17\n",
      "  7.51754707e+16]\n"
     ]
    }
   ],
   "source": [
    "dim = 5\n",
    "n = 9\n",
    "opciones = list(range(-n,n+1))\n",
    "\n",
    "def check(x):\n",
    "    s = False\n",
    "    for x in X:\n",
    "        if x-floor(x)==0:\n",
    "            s = True\n",
    "        else:\n",
    "            s = False\n",
    "            break\n",
    "    return s\n",
    "\n",
    "for k in range(10000):\n",
    "    A = np.random.choice(opciones,size=(dim,dim),replace=True)\n",
    "    b = np.random.choice(opciones,size=(dim,),replace=True)\n",
    "    try:\n",
    "        X = np.linalg.inv(A)@b\n",
    "    except:\n",
    "        pass\n",
    "    if check(X):\n",
    "        print(A)\n",
    "        print(b.reshape((dim,1)))\n",
    "        print(X)\n",
    "        break\n"
   ]
  },
  {
   "cell_type": "code",
   "execution_count": 28,
   "metadata": {},
   "outputs": [
    {
     "data": {
      "text/plain": [
       "array([23., 12., 27., -3., 11.])"
      ]
     },
     "execution_count": 28,
     "metadata": {},
     "output_type": "execute_result"
    }
   ],
   "source": [
    "x = np.array([1,2,3,4,5])\n",
    "A = np.array([[3,2,1,-3,5],[-1,0,4,-1,1],[1,4,2,3,0],[2,-2,1,-1,0],[3,1,1,7,-5]],dtype=float)\n",
    "np.dot(A,x)"
   ]
  },
  {
   "cell_type": "code",
   "execution_count": null,
   "metadata": {},
   "outputs": [],
   "source": []
  }
 ],
 "metadata": {
  "kernelspec": {
   "display_name": "Python 3.8.10 64-bit",
   "language": "python",
   "name": "python3"
  },
  "language_info": {
   "codemirror_mode": {
    "name": "ipython",
    "version": 3
   },
   "file_extension": ".py",
   "mimetype": "text/x-python",
   "name": "python",
   "nbconvert_exporter": "python",
   "pygments_lexer": "ipython3",
   "version": "3.8.10"
  },
  "orig_nbformat": 4,
  "vscode": {
   "interpreter": {
    "hash": "916dbcbb3f70747c44a77c7bcd40155683ae19c65e1c03b4aa3499c5328201f1"
   }
  }
 },
 "nbformat": 4,
 "nbformat_minor": 2
}
