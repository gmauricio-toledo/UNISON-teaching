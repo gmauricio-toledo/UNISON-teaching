{
  "cells": [
    {
      "cell_type": "code",
      "execution_count": 1,
      "metadata": {},
      "outputs": [
        {
          "data": {
            "text/plain": [
              "array([16.67, 58.33, 33.33, 41.67,  0.  , 83.33, 45.83, 16.67, 16.67,\n",
              "       16.67,  0.  ,  0.  ,  8.33, 83.33,  0.  ,  0.  , 58.33,  0.  ,\n",
              "       75.  , 58.33, 25.  ,  8.33,  0.  , 50.  ,  0.  , 54.17, 70.83,\n",
              "       66.67, 83.33, 83.33, 33.33, 41.67, 66.67, 41.67, 16.67, 33.33,\n",
              "       50.  , 50.  , 16.67])"
            ]
          },
          "execution_count": 1,
          "metadata": {},
          "output_type": "execute_result"
        }
      ],
      "source": [
        "import numpy as np\n",
        "\n",
        "text = '''\n",
        "16.67\n",
        "58.33\n",
        "33.33\n",
        "41.67\n",
        "0.00\n",
        "83.33\n",
        "45.83\n",
        "16.67\n",
        "16.67\n",
        "16.67\n",
        "0.00\n",
        "0.00\n",
        "8.33\n",
        "83.33\n",
        "0.00\n",
        "0.00\n",
        "58.33\n",
        "0.00\n",
        "75.00\n",
        "58.33\n",
        "25.00\n",
        "8.33\n",
        "0.00\n",
        "50.00\n",
        "0.00\n",
        "54.17\n",
        "70.83\n",
        "66.67\n",
        "83.33\n",
        "83.33\n",
        "33.33\n",
        "41.67\n",
        "66.67\n",
        "41.67\n",
        "16.67\n",
        "33.33\n",
        "50.00\n",
        "50.00\n",
        "16.67\n",
        "16.67'''\n",
        "\n",
        "A = np.array([float(x) for x in text.split('\\n')[1:-1]])\n",
        "A"
      ]
    },
    {
      "cell_type": "code",
      "execution_count": 3,
      "metadata": {},
      "outputs": [
        {
          "name": "stdout",
          "output_type": "stream",
          "text": [
            "Promedio total: 36.004102564102574\n",
            "Promedio non-zero: 45.29548387096775\n"
          ]
        },
        {
          "data": {
            "image/png": "[encoded data removed]",
            "text/plain": [
              "<Figure size 432x288 with 1 Axes>"
            ]
          },
          "metadata": {},
          "output_type": "display_data"
        }
      ],
      "source": [
        "import matplotlib.pyplot as plt\n",
        "\n",
        "aprobados = A[A>=60].shape[0]\n",
        "failed = A[A<60].shape[0]\n",
        "dnf = A[A==0].shape[0]\n",
        "\n",
        "print(f\"Promedio total: {np.mean(A)}\")\n",
        "print(f\"Promedio non-zero: {np.mean(A[A!=0])}\")\n",
        "\n",
        "plt.pie(x=[aprobados,failed,dnf],labels=['Aprobados','Reprobados','DNF'])\n",
        "plt.legend(loc='best')\n",
        "plt.show()"
      ]
    },
    {
      "cell_type": "code",
      "execution_count": 4,
      "metadata": {},
      "outputs": [
        {
          "name": "stderr",
          "output_type": "stream",
          "text": [
            "/home/wini/.local/lib/python3.8/site-packages/seaborn/_decorators.py:36: FutureWarning: Pass the following variable as a keyword arg: x. From version 0.12, the only valid positional argument will be `data`, and passing other arguments without an explicit keyword will result in an error or misinterpretation.\n",
            "  warnings.warn(\n"
          ]
        },
        {
          "data": {
            "text/plain": [
              "<matplotlib.axes._subplots.AxesSubplot at 0x7f34bc02c1f0>"
            ]
          },
          "execution_count": 4,
          "metadata": {},
          "output_type": "execute_result"
        },
        {
          "data": {
            "image/png": "[encoded data removed]",
            "text/plain": [
              "<Figure size 432x288 with 1 Axes>"
            ]
          },
          "metadata": {
            "needs_background": "light"
          },
          "output_type": "display_data"
        }
      ],
      "source": [
        "from seaborn import violinplot\n",
        "\n",
        "violinplot(A[A!=0])"
      ]
    },
    {
      "cell_type": "code",
      "execution_count": 5,
      "metadata": {},
      "outputs": [
        {
          "name": "stderr",
          "output_type": "stream",
          "text": [
            "/home/wini/.local/lib/python3.8/site-packages/seaborn/_decorators.py:36: FutureWarning: Pass the following variable as a keyword arg: x. From version 0.12, the only valid positional argument will be `data`, and passing other arguments without an explicit keyword will result in an error or misinterpretation.\n",
            "  warnings.warn(\n"
          ]
        },
        {
          "data": {
            "text/plain": [
              "<matplotlib.axes._subplots.AxesSubplot at 0x7f34b594f9a0>"
            ]
          },
          "execution_count": 5,
          "metadata": {},
          "output_type": "execute_result"
        },
        {
          "data": {
            "image/png": "[encoded data removed]",
            "text/plain": [
              "<Figure size 432x288 with 1 Axes>"
            ]
          },
          "metadata": {
            "needs_background": "light"
          },
          "output_type": "display_data"
        }
      ],
      "source": [
        "from seaborn import boxplot\n",
        "\n",
        "boxplot(A[A!=0])"
      ]
    },
    {
      "cell_type": "code",
      "execution_count": 6,
      "metadata": {},
      "outputs": [
        {
          "data": {
            "text/plain": [
              "array([20.835, 45.83 , 62.5  ])"
            ]
          },
          "execution_count": 6,
          "metadata": {},
          "output_type": "execute_result"
        }
      ],
      "source": [
        "np.quantile(A[A!=0],q=[0.25,0.5,0.75])"
      ]
    },
    {
      "cell_type": "code",
      "execution_count": null,
      "metadata": {},
      "outputs": [],
      "source": []
    }
  ],
  "metadata": {
    "colab": {
      "authorship_tag": "ABX9TyPVlK7bGmDV3Ajcm48LuPKN",
      "include_colab_link": true,
      "provenance": []
    },
    "kernelspec": {
      "display_name": "Python 3.8.10 64-bit",
      "language": "python",
      "name": "python3"
    },
    "language_info": {
      "codemirror_mode": {
        "name": "ipython",
        "version": 3
      },
      "file_extension": ".py",
      "mimetype": "text/x-python",
      "name": "python",
      "nbconvert_exporter": "python",
      "pygments_lexer": "ipython3",
      "version": "3.8.10"
    },
    "vscode": {
      "interpreter": {
        "hash": "31f2aee4e71d21fbe5cf8b01ff0e069b9275f58929596ceb00d14d90e3e16cd6"
      }
    }
  },
  "nbformat": 4,
  "nbformat_minor": 0
}
