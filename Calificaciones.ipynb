{
  "cells": [
    {
      "cell_type": "code",
      "execution_count": 1,
      "metadata": {},
      "outputs": [
        {
          "data": {
            "text/plain": [
              "array([9.2 , 3.18, 4.74, 8.86, 7.51, 9.92, 4.8 , 0.96, 0.  , 0.  , 9.42,\n",
              "       0.  , 7.85, 0.  , 6.5 , 4.92, 7.63, 8.59, 5.09, 9.81, 5.99, 0.  ,\n",
              "       8.06, 7.5 , 9.64, 8.12, 8.2 , 0.44, 5.9 , 0.  , 5.09, 8.33, 0.  ,\n",
              "       8.9 , 7.11, 8.2 , 5.41, 0.  , 3.18, 4.72, 0.75])"
            ]
          },
          "execution_count": 1,
          "metadata": {},
          "output_type": "execute_result"
        }
      ],
      "source": [
        "import numpy as np\n",
        "\n",
        "text = '''\n",
        "9.20\n",
        "3.18\n",
        "4.74\n",
        "8.86\n",
        "7.51\n",
        "9.92\n",
        "4.80\n",
        "0.96\n",
        "0.00\n",
        "0.00\n",
        "9.42\n",
        "0.00\n",
        "7.85\n",
        "0.00\n",
        "6.50\n",
        "4.92\n",
        "7.63\n",
        "8.59\n",
        "5.09\n",
        "9.81\n",
        "5.99\n",
        "0.00\n",
        "8.06\n",
        "7.50\n",
        "9.64\n",
        "8.12\n",
        "8.20\n",
        "0.44\n",
        "5.90\n",
        "0.00\n",
        "5.09\n",
        "8.33\n",
        "0.00\n",
        "8.90\n",
        "7.11\n",
        "8.20\n",
        "5.41\n",
        "0.00\n",
        "3.18\n",
        "4.72\n",
        "0.75\n",
        "'''\n",
        "\n",
        "A = np.array([float(x) for x in text.split('\\n')[1:-1]])\n",
        "A"
      ]
    },
    {
      "cell_type": "code",
      "execution_count": 6,
      "metadata": {},
      "outputs": [
        {
          "name": "stdout",
          "output_type": "stream",
          "text": [
            "Promedio total: 5.232195121951219\n",
            "Promedio non-zero: 6.50060606060606\n"
          ]
        },
        {
          "data": {
            "image/png": "[encoded data removed]",
            "text/plain": [
              "<Figure size 432x288 with 1 Axes>"
            ]
          },
          "metadata": {},
          "output_type": "display_data"
        }
      ],
      "source": [
        "import matplotlib.pyplot as plt\n",
        "\n",
        "aprobados = A[A>=6].shape[0]\n",
        "failed = A[A<6].shape[0]\n",
        "dnf = A[A==0].shape[0]\n",
        "\n",
        "print(f\"Promedio total: {np.mean(A)}\")\n",
        "print(f\"Promedio non-zero: {np.mean(A[A!=0])}\")\n",
        "\n",
        "plt.pie(x=[aprobados,failed,dnf],labels=['Aprobados','Reprobados','DNF'])\n",
        "plt.legend(loc='best')\n",
        "plt.show()"
      ]
    },
    {
      "cell_type": "code",
      "execution_count": 17,
      "metadata": {},
      "outputs": [
        {
          "name": "stderr",
          "output_type": "stream",
          "text": [
            "/home/wini/.local/lib/python3.8/site-packages/seaborn/_decorators.py:36: FutureWarning: Pass the following variable as a keyword arg: x. From version 0.12, the only valid positional argument will be `data`, and passing other arguments without an explicit keyword will result in an error or misinterpretation.\n",
            "  warnings.warn(\n"
          ]
        },
        {
          "data": {
            "text/plain": [
              "<matplotlib.axes._subplots.AxesSubplot at 0x7ff8a1039850>"
            ]
          },
          "execution_count": 17,
          "metadata": {},
          "output_type": "execute_result"
        },
        {
          "data": {
            "image/png": "[encoded data removed]",
            "text/plain": [
              "<Figure size 432x288 with 1 Axes>"
            ]
          },
          "metadata": {
            "needs_background": "light"
          },
          "output_type": "display_data"
        }
      ],
      "source": [
        "from seaborn import violinplot\n",
        "\n",
        "violinplot(A[A!=0])"
      ]
    },
    {
      "cell_type": "code",
      "execution_count": 18,
      "metadata": {},
      "outputs": [
        {
          "name": "stderr",
          "output_type": "stream",
          "text": [
            "/home/wini/.local/lib/python3.8/site-packages/seaborn/_decorators.py:36: FutureWarning: Pass the following variable as a keyword arg: x. From version 0.12, the only valid positional argument will be `data`, and passing other arguments without an explicit keyword will result in an error or misinterpretation.\n",
            "  warnings.warn(\n"
          ]
        },
        {
          "data": {
            "text/plain": [
              "<matplotlib.axes._subplots.AxesSubplot at 0x7ff8a1025eb0>"
            ]
          },
          "execution_count": 18,
          "metadata": {},
          "output_type": "execute_result"
        },
        {
          "data": {
            "image/png": "[encoded data removed]",
            "text/plain": [
              "<Figure size 432x288 with 1 Axes>"
            ]
          },
          "metadata": {
            "needs_background": "light"
          },
          "output_type": "display_data"
        }
      ],
      "source": [
        "from seaborn import boxplot\n",
        "\n",
        "boxplot(A[A!=0])"
      ]
    },
    {
      "cell_type": "code",
      "execution_count": 19,
      "metadata": {},
      "outputs": [
        {
          "data": {
            "text/plain": [
              "array([4.92, 7.5 , 8.33])"
            ]
          },
          "execution_count": 19,
          "metadata": {},
          "output_type": "execute_result"
        }
      ],
      "source": [
        "np.quantile(A[A!=0],q=[0.25,0.5,0.75])"
      ]
    },
    {
      "cell_type": "code",
      "execution_count": null,
      "metadata": {},
      "outputs": [],
      "source": []
    }
  ],
  "metadata": {
    "colab": {
      "authorship_tag": "ABX9TyPVlK7bGmDV3Ajcm48LuPKN",
      "include_colab_link": true,
      "provenance": []
    },
    "kernelspec": {
      "display_name": "Python 3.8.10 64-bit",
      "language": "python",
      "name": "python3"
    },
    "language_info": {
      "codemirror_mode": {
        "name": "ipython",
        "version": 3
      },
      "file_extension": ".py",
      "mimetype": "text/x-python",
      "name": "python",
      "nbconvert_exporter": "python",
      "pygments_lexer": "ipython3",
      "version": "3.8.10"
    },
    "vscode": {
      "interpreter": {
        "hash": "31f2aee4e71d21fbe5cf8b01ff0e069b9275f58929596ceb00d14d90e3e16cd6"
      }
    }
  },
  "nbformat": 4,
  "nbformat_minor": 0
}
