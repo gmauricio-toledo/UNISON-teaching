{
 "cells": [
  {
   "cell_type": "code",
   "execution_count": 1,
   "metadata": {},
   "outputs": [
    {
     "name": "stdout",
     "output_type": "stream",
     "text": [
      "('a', 1),('a', 2),('a', 3),('b', 1),('b', 2),('b', 3),('c', 1),('c', 2),('c', 3),('d', 1),('d', 2),('d', 3),\n"
     ]
    }
   ],
   "source": [
    "from itertools import product\n",
    "\n",
    "A = ['a','b','c','d']\n",
    "B = [1,2,3]\n",
    "C = [-2,0,2]\n",
    "\n",
    "output = \"\"\n",
    "\n",
    "for x in product(A,B):\n",
    "    output += str(x) \n",
    "    output += \",\"\n",
    "\n",
    "print(output)"
   ]
  },
  {
   "cell_type": "code",
   "execution_count": 2,
   "metadata": {},
   "outputs": [
    {
     "name": "stdout",
     "output_type": "stream",
     "text": [
      "(-3, 0),(-3, 1),(-3, 2),(-3, 3),(-2, 0),(-2, 1),(-2, 2),(-2, 3),(-1, 0),(-1, 1),(-1, 2),(-1, 3),(0, 0),(0, 1),(0, 2),(0, 3),\n"
     ]
    }
   ],
   "source": [
    "output = \"\"\n",
    "\n",
    "for x in product(A,B):\n",
    "    output += str(x) \n",
    "    output += \",\"\n",
    "\n",
    "print(output)"
   ]
  },
  {
   "cell_type": "code",
   "execution_count": 3,
   "metadata": {},
   "outputs": [
    {
     "name": "stdout",
     "output_type": "stream",
     "text": [
      "(0, -3),(0, -2),(0, -1),(0, 0),(1, -3),(1, -2),(1, -1),(1, 0),(2, -3),(2, -2),(2, -1),(2, 0),(3, -3),(3, -2),(3, -1),(3, 0),\n"
     ]
    }
   ],
   "source": [
    "output = \"\"\n",
    "\n",
    "for x in product(B,A):\n",
    "    output += str(x) \n",
    "    output += \",\"\n",
    "\n",
    "print(output)"
   ]
  },
  {
   "cell_type": "code",
   "execution_count": null,
   "metadata": {},
   "outputs": [],
   "source": []
  }
 ],
 "metadata": {
  "kernelspec": {
   "display_name": "Python 3",
   "language": "python",
   "name": "python3"
  },
  "language_info": {
   "codemirror_mode": {
    "name": "ipython",
    "version": 3
   },
   "file_extension": ".py",
   "mimetype": "text/x-python",
   "name": "python",
   "nbconvert_exporter": "python",
   "pygments_lexer": "ipython3",
   "version": "3.8.10"
  },
  "orig_nbformat": 4
 },
 "nbformat": 4,
 "nbformat_minor": 2
}
