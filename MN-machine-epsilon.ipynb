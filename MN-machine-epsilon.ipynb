{
 "cells": [
  {
   "cell_type": "markdown",
   "metadata": {},
   "source": [
    "# 1. Straight-forward"
   ]
  },
  {
   "cell_type": "code",
   "execution_count": 25,
   "metadata": {},
   "outputs": [],
   "source": [
    "import numpy as np\n",
    "\n",
    "def to_decimal(digits,int_len):\n",
    "    if int_len <= len(digits):\n",
    "        pos_exponents = np.arange(0, int_len, dtype=float)[::-1]\n",
    "        neg_exponents = -np.arange(1, len(digits)-int_len+1, dtype=float)\n",
    "        exponents = np.concatenate((pos_exponents,neg_exponents))\n",
    "        return np.sum(digits*np.power([2],exponents))\n",
    "    else:\n",
    "        print(\"Invalid arguments\")        "
   ]
  },
  {
   "cell_type": "code",
   "execution_count": 38,
   "metadata": {},
   "outputs": [
    {
     "name": "stdout",
     "output_type": "stream",
     "text": [
      "[0.    0.125 0.25  0.375 0.5   0.625 0.75  0.875 1.    1.125 1.25  1.375\n",
      " 1.5   1.625 1.75  1.875 2.    2.125 2.25  2.375 2.5   2.625 2.75  2.875\n",
      " 3.    3.125 3.25  3.375 3.5   3.625 3.75  3.875 4.    4.125 4.25  4.375\n",
      " 4.5   4.625 4.75  4.875 5.    5.125 5.25  5.375 5.5   5.625 5.75  5.875\n",
      " 6.    6.125 6.25  6.375 6.5   6.625 6.75  6.875 7.    7.125 7.25  7.375\n",
      " 7.5   7.625 7.75  7.875]\n"
     ]
    }
   ],
   "source": [
    "from itertools import product\n",
    "\n",
    "n = 6\n",
    "integer_len = 3\n",
    "digits_list = list(product([0,1],repeat=n))\n",
    "\n",
    "all_numbers = np.array([to_decimal(list(x),integer_len) for x in digits_list])\n",
    "print(all_numbers)\n"
   ]
  },
  {
   "cell_type": "code",
   "execution_count": 40,
   "metadata": {},
   "outputs": [
    {
     "data": {
      "image/png": "[encoded data removed]",
      "text/plain": [
       "<Figure size 720x480 with 1 Axes>"
      ]
     },
     "metadata": {
      "needs_background": "light"
     },
     "output_type": "display_data"
    }
   ],
   "source": [
    "import matplotlib.pyplot as plt\n",
    "\n",
    "all_numbers = np.concatenate((-all_numbers,all_numbers))\n",
    "\n",
    "n = all_numbers.shape[0]\n",
    "\n",
    "plt.figure(dpi=120)\n",
    "plt.suptitle(\"Distribución de los números generados linealmente\")\n",
    "plt.scatter(all_numbers,n*[0],s=20,alpha=0.5,color='black')\n",
    "plt.yticks([])\n",
    "plt.show()"
   ]
  },
  {
   "cell_type": "markdown",
   "metadata": {},
   "source": [
    "# 2. Con Mantisa y Exponente"
   ]
  },
  {
   "cell_type": "code",
   "execution_count": 32,
   "metadata": {},
   "outputs": [
    {
     "name": "stdout",
     "output_type": "stream",
     "text": [
      "[0.0625   0.078125 0.09375  0.109375 0.125    0.15625  0.1875   0.21875\n",
      " 0.25     0.3125   0.375    0.4375   0.5      0.5      0.625    0.625\n",
      " 0.75     0.75     0.875    0.875    1.       1.25     1.5      1.75\n",
      " 2.       2.5      3.       3.5      4.       5.       6.       7.      ]\n"
     ]
    }
   ],
   "source": [
    "from itertools import product\n",
    "import numpy as np\n",
    "\n",
    "def mantisa(a,b,c):\n",
    "    return a*(2**(-1))+b*(2**(-2))+c*(2**(-3))\n",
    "\n",
    "def exponente(s,a,b):\n",
    "    if s==0:\n",
    "        return 2*a+b\n",
    "    elif s==1:\n",
    "        return -(2*a+b)\n",
    "\n",
    "mantisas = [(1,0,0),(1,0,1),(1,1,0),(1,1,1)]\n",
    "exponentes = list(product([0,1],repeat=3))\n",
    "\n",
    "all_numbers = []\n",
    "for pair in product(mantisas,exponentes):\n",
    "    all_numbers.append(mantisa(*pair[0])*(2**exponente(*pair[1])))\n",
    "\n",
    "all_numbers = np.sort(all_numbers)\n",
    "\n",
    "print(all_numbers)"
   ]
  },
  {
   "cell_type": "code",
   "execution_count": 33,
   "metadata": {},
   "outputs": [
    {
     "name": "stdout",
     "output_type": "stream",
     "text": [
      "Diferencias entre consecutivos:\n",
      "[0.015625 0.015625 0.015625 0.015625 0.03125  0.03125  0.03125  0.03125\n",
      " 0.0625   0.0625   0.0625   0.0625   0.       0.125    0.       0.125\n",
      " 0.       0.125    0.       0.125    0.25     0.25     0.25     0.25\n",
      " 0.5      0.5      0.5      0.5      1.       1.       1.      ]\n"
     ]
    }
   ],
   "source": [
    "diffs = np.ediff1d(all_numbers)\n",
    "\n",
    "print(\"Diferencias entre consecutivos:\")\n",
    "print(diffs)"
   ]
  },
  {
   "cell_type": "code",
   "execution_count": 36,
   "metadata": {},
   "outputs": [
    {
     "data": {
      "image/png": "[encoded data removed]",
      "text/plain": [
       "<Figure size 720x480 with 1 Axes>"
      ]
     },
     "metadata": {
      "needs_background": "light"
     },
     "output_type": "display_data"
    }
   ],
   "source": [
    "import matplotlib.pyplot as plt\n",
    "\n",
    "all_numbers = np.concatenate((-all_numbers,all_numbers))\n",
    "\n",
    "n = all_numbers.shape[0]\n",
    "\n",
    "plt.figure(dpi=120)\n",
    "plt.suptitle(\"Distribución de los números generados con mantisa y exponente\")\n",
    "plt.scatter(all_numbers,n*[0],s=20,alpha=0.5,color='black')\n",
    "plt.yticks([])\n",
    "plt.show()"
   ]
  },
  {
   "cell_type": "code",
   "execution_count": 23,
   "metadata": {},
   "outputs": [
    {
     "name": "stdout",
     "output_type": "stream",
     "text": [
      "32\n",
      "31\n"
     ]
    }
   ],
   "source": [
    "print(all_numbers.shape[0])\n",
    "print(diffs.shape[0])"
   ]
  },
  {
   "cell_type": "code",
   "execution_count": 25,
   "metadata": {},
   "outputs": [
    {
     "name": "stdout",
     "output_type": "stream",
     "text": [
      "[0.25, 0.2, 0.16666666666666666, 0.14285714285714285, 0.25, 0.2, 0.16666666666666666, 0.14285714285714285, 0.25, 0.2, 0.16666666666666666, 0.14285714285714285, 0.0, 0.25, 0.0, 0.2, 0.0, 0.16666666666666666, 0.0, 0.14285714285714285, 0.25, 0.2, 0.16666666666666666, 0.14285714285714285, 0.25, 0.2, 0.16666666666666666, 0.14285714285714285, 0.25, 0.2, 0.16666666666666666]\n"
     ]
    }
   ],
   "source": [
    "errors = []\n",
    "\n",
    "for j,dx in enumerate(diffs):\n",
    "    error = dx/all_numbers[j]\n",
    "    errors.append(error)\n",
    "    \n",
    "print(errors)"
   ]
  },
  {
   "cell_type": "code",
   "execution_count": 7,
   "metadata": {},
   "outputs": [],
   "source": [
    "from math import sqrt\n",
    "\n",
    "def raices(a,b,c):\n",
    "    disc = sqrt(b*b - 4*a*c)\n",
    "    return ((-b+disc)/(2*a),(-b-disc)/(2*a))"
   ]
  },
  {
   "cell_type": "code",
   "execution_count": 22,
   "metadata": {},
   "outputs": [
    {
     "name": "stdout",
     "output_type": "stream",
     "text": [
      "(-0.0009999999999763531, -3000.0)\n"
     ]
    }
   ],
   "source": [
    "\n",
    "a = 1\n",
    "b = 3000.001\n",
    "c = 3\n",
    "\n",
    "sols = raices(a,b,c)\n",
    "print(sols)"
   ]
  },
  {
   "cell_type": "code",
   "execution_count": 12,
   "metadata": {},
   "outputs": [
    {
     "name": "stdout",
     "output_type": "stream",
     "text": [
      "2.3646883062777846e-09 0.0\n"
     ]
    }
   ],
   "source": [
    "reales = (-0.001,-3000)\n",
    "\n",
    "errores = []\n",
    "\n",
    "for j in range(2):\n",
    "    errores.append(100*abs((sols[j]-reales[j])/reales[j]))\n",
    "\n",
    "print(*errores)"
   ]
  },
  {
   "cell_type": "code",
   "execution_count": 2,
   "metadata": {},
   "outputs": [
    {
     "name": "stdout",
     "output_type": "stream",
     "text": [
      "Opción 1:\n",
      "1.001\n",
      "Opción 2:\n",
      "1.0010000000005839\n",
      "Opción 3:\n",
      "1.0009999999999997\n"
     ]
    }
   ],
   "source": [
    "x = 1\n",
    "y = 0.0000001\n",
    "\n",
    "n = 10000\n",
    "\n",
    "print(\"Opción 1:\")\n",
    "resultado1 = x+n*y\n",
    "print(resultado1)\n",
    "\n",
    "print(\"Opción 2:\")\n",
    "resultado2 = x\n",
    "for j in range(n):\n",
    "    resultado2 += y\n",
    "print(resultado2)\n",
    "\n",
    "print(\"Opción 3:\")\n",
    "resultado3 = 0\n",
    "for j in range(n):\n",
    "    resultado3 += y\n",
    "resultado3 += x\n",
    "print(resultado3)"
   ]
  },
  {
   "cell_type": "code",
   "execution_count": 21,
   "metadata": {},
   "outputs": [
    {
     "name": "stdout",
     "output_type": "stream",
     "text": [
      "Opción 1: 0.0\n",
      "Opción 2: 5.833939170357966e-13\n",
      "Opción 3: 2.2182278214288845e-16\n"
     ]
    }
   ],
   "source": [
    "real = resultado1\n",
    "\n",
    "def error_relativo(real,aprox):\n",
    "    return abs(real-aprox)/abs(real)\n",
    "\n",
    "print(f\"Opción 1: {error_relativo(real,resultado1)}\")\n",
    "print(f\"Opción 2: {error_relativo(real,resultado2)}\")\n",
    "print(f\"Opción 3: {error_relativo(real,resultado3)}\")"
   ]
  },
  {
   "cell_type": "markdown",
   "metadata": {},
   "source": [
    "## Error de dispersión"
   ]
  },
  {
   "cell_type": "code",
   "execution_count": 24,
   "metadata": {},
   "outputs": [
    {
     "name": "stdout",
     "output_type": "stream",
     "text": [
      "real: 22026.465794806718, aproximado: 22026.460266271286\n",
      "real: 4.5399929762484854e-05, aproximado: -0.0027996460492138685\n"
     ]
    }
   ],
   "source": [
    "import numpy as np\n",
    "from math import factorial\n",
    "\n",
    "x = 10\n",
    "resultado = 0\n",
    "for j in range(30):\n",
    "    resultado += x**j/factorial(j)\n",
    "print(f\"real: {np.exp(x)}, aproximado: {resultado}\")\n",
    "\n",
    "x = -10\n",
    "resultado = 0\n",
    "for j in range(30):\n",
    "    resultado += x**j/factorial(j)\n",
    "print(f\"real: {np.exp(x)}, aproximado: {resultado}\")"
   ]
  },
  {
   "cell_type": "code",
   "execution_count": null,
   "metadata": {},
   "outputs": [],
   "source": []
  }
 ],
 "metadata": {
  "kernelspec": {
   "display_name": "Python 3.8.10 64-bit",
   "language": "python",
   "name": "python3"
  },
  "language_info": {
   "codemirror_mode": {
    "name": "ipython",
    "version": 3
   },
   "file_extension": ".py",
   "mimetype": "text/x-python",
   "name": "python",
   "nbconvert_exporter": "python",
   "pygments_lexer": "ipython3",
   "version": "3.8.10"
  },
  "orig_nbformat": 4,
  "vscode": {
   "interpreter": {
    "hash": "916dbcbb3f70747c44a77c7bcd40155683ae19c65e1c03b4aa3499c5328201f1"
   }
  }
 },
 "nbformat": 4,
 "nbformat_minor": 2
}
