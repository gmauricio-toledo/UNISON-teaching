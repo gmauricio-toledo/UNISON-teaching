{
 "cells": [
  {
   "cell_type": "code",
   "execution_count": 1,
   "metadata": {},
   "outputs": [],
   "source": [
    "import numpy as np\n",
    "from math import radians, degrees\n",
    "\n",
    "def angulo(m1,m2):\n",
    "    if m1*m2!=-1:\n",
    "        return np.arctan((m2-m1)/(1+m1*m2))\n",
    "    else:\n",
    "        return np.pi/2\n",
    "\n",
    "def tan_ang(m1,m2):\n",
    "    if m1*m2!=-1:\n",
    "        return (m2-m1)/(1+m1*m2)\n",
    "    else:\n",
    "        return np.nan\n",
    "\n",
    "\n",
    "def m(p,q):\n",
    "    return (q[1]-p[1])/(q[0]-p[0])"
   ]
  },
  {
   "cell_type": "code",
   "execution_count": 2,
   "metadata": {},
   "outputs": [
    {
     "data": {
      "text/plain": [
       "-0.12435730223551883"
      ]
     },
     "execution_count": 2,
     "metadata": {},
     "output_type": "execute_result"
    }
   ],
   "source": [
    "angulo(-0.5,-0.66667)"
   ]
  },
  {
   "cell_type": "code",
   "execution_count": 3,
   "metadata": {},
   "outputs": [
    {
     "name": "stdout",
     "output_type": "stream",
     "text": [
      "9.273618495495704\n",
      "9.273618495495704\n",
      "9.273618495495704\n"
     ]
    }
   ],
   "source": [
    "p1 = np.array([-2,4,-3])\n",
    "p2 = np.array([4,-3,-2])\n",
    "p3 = np.array([-3,-2,4])\n",
    "\n",
    "print(np.linalg.norm(p1-p2))\n",
    "print(np.linalg.norm(p2-p3))\n",
    "print(np.linalg.norm(p1-p3))"
   ]
  },
  {
   "cell_type": "markdown",
   "metadata": {},
   "source": [
    "Tarea 1"
   ]
  },
  {
   "cell_type": "code",
   "execution_count": 6,
   "metadata": {},
   "outputs": [
    {
     "name": "stdout",
     "output_type": "stream",
     "text": [
      "Ángulo es radianes:\n",
      "(1.1801892830972098, 1.2315037123408519, 0.7298996581517315)\n",
      "Ángulos en grados:\n",
      "(67.61986494804043, 70.5599651718238, 41.82016988013577)\n",
      "La suma, as is, es: 3.141592653589793\n",
      "Tangentes de los ángulos:\n",
      "(2.428571428571429, 2.833333333333333, 0.8947368421052632)\n"
     ]
    }
   ],
   "source": [
    "import numpy as np\n",
    "\n",
    "a = np.array([-2,-3])\n",
    "b = np.array([1,-1])\n",
    "c = np.array([-3,2])\n",
    "\n",
    "m_ac = m(a,c)\n",
    "m_ab = m(a,b)\n",
    "m_bc = m(b,c)\n",
    "\n",
    "t1 = angulo(m_ab,m_ac)\n",
    "t2 = angulo(m_bc,m_ab)\n",
    "t3 = angulo(m_ac,m_bc)\n",
    "\n",
    "print(f\"Ángulo es radianes:\\n{t1,t2,t3}\")\n",
    "\n",
    "print(f\"Ángulos en grados:\\n{degrees(t1),degrees(t2),degrees(t3)}\")\n",
    "\n",
    "print(f\"La suma, as is, es: {t1+t2+t3}\") \n",
    "\n",
    "tt1 = tan_ang(m_ab,m_ac)\n",
    "tt2 = tan_ang(m_bc,m_ab)\n",
    "tt3 = tan_ang(m_ac,m_bc)\n",
    "\n",
    "print(f\"Tangentes de los ángulos:\\n{tt1,tt2,tt3}\")\n",
    "# print(f\"La suma, ajustada, es: {t1+t2+(t3+np.pi)}\") \n",
    "# print(f\"La suma debe ser {np.pi}\")\n",
    "\n",
    "# print(t3+np.pi/2,t3+np.pi)"
   ]
  },
  {
   "cell_type": "code",
   "execution_count": 8,
   "metadata": {},
   "outputs": [
    {
     "name": "stdout",
     "output_type": "stream",
     "text": [
      "Pendientes:\n",
      "(1.3333333333333333, 0.2222222222222222, 1.3333333333333333, 0.2222222222222222)\n",
      "Ángulos en radianes:\n",
      "(-0.7086262721276703, 0.7086262721276703, -0.7086262721276703, 0.7086262721276703)\n",
      "Ángulos en grados:\n",
      "(-40.60129464500447, 40.60129464500447, -40.60129464500447, 40.60129464500447)\n"
     ]
    }
   ],
   "source": [
    "import numpy as np\n",
    "\n",
    "a = np.array([-2, 1])\n",
    "b = np.array([1,5])\n",
    "c = np.array([10,7])\n",
    "d = np.array([7,3])\n",
    "\n",
    "m_ab = m(a,b)\n",
    "m_bc = m(b,c)\n",
    "m_cd = m(c,d)\n",
    "m_da = m(d,a)\n",
    "\n",
    "print(f\"Pendientes:\\n{m_ab,m_bc,m_cd,m_da}\")\n",
    "\n",
    "t1 = angulo(m_ab,m_bc)\n",
    "t2 = angulo(m_bc,m_cd)\n",
    "t3 = angulo(m_cd,m_da)\n",
    "t4 = angulo(m_da,m_ab)\n",
    "\n",
    "print(f\"Ángulos en radianes:\\n{t1,t2,t3,t4}\")\n",
    "\n",
    "print(f\"Ángulos en grados:\\n{degrees(t1),degrees(t2),degrees(t3),degrees(t4)}\")\n",
    "\n",
    "# print(f\"La suma, as is, es: {t1+t2+t3}\") \n",
    "# print(f\"La suma, ajustada, es: {t1+t2+(t3+np.pi)}\") \n",
    "# print(f\"La suma debe ser {np.pi}\")\n",
    "\n",
    "# print(t3+np.pi/2,t3+np.pi)"
   ]
  },
  {
   "cell_type": "code",
   "execution_count": 10,
   "metadata": {},
   "outputs": [
    {
     "name": "stdout",
     "output_type": "stream",
     "text": [
      "Tangentes de los ángulos:\n",
      "(-0.8571428571428572, 0.8571428571428572, -0.8571428571428572, 0.8571428571428572)\n"
     ]
    }
   ],
   "source": [
    "t1 = tan_ang(m_ab,m_bc)\n",
    "t2 = tan_ang(m_bc,m_cd)\n",
    "t3 = tan_ang(m_cd,m_da)\n",
    "t4 = tan_ang(m_da,m_ab)\n",
    "\n",
    "print(f\"Tangentes de los ángulos:\\n{t1,t2,t3,t4}\")"
   ]
  },
  {
   "cell_type": "code",
   "execution_count": null,
   "metadata": {},
   "outputs": [],
   "source": []
  }
 ],
 "metadata": {
  "kernelspec": {
   "display_name": "Python 3.8.10 64-bit",
   "language": "python",
   "name": "python3"
  },
  "language_info": {
   "codemirror_mode": {
    "name": "ipython",
    "version": 3
   },
   "file_extension": ".py",
   "mimetype": "text/x-python",
   "name": "python",
   "nbconvert_exporter": "python",
   "pygments_lexer": "ipython3",
   "version": "3.8.10"
  },
  "orig_nbformat": 4,
  "vscode": {
   "interpreter": {
    "hash": "31f2aee4e71d21fbe5cf8b01ff0e069b9275f58929596ceb00d14d90e3e16cd6"
   }
  }
 },
 "nbformat": 4,
 "nbformat_minor": 2
}
