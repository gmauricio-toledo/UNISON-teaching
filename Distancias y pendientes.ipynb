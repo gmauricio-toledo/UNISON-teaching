{
 "cells": [
  {
   "cell_type": "code",
   "execution_count": 1,
   "metadata": {},
   "outputs": [],
   "source": [
    "import numpy as np\n",
    "\n",
    "def angulo(m1,m2):\n",
    "    if m1*m2!=-1:\n",
    "        return np.arctan((m2-m1)/(1+m1*m2))\n",
    "    else:\n",
    "        return np.pi/2\n",
    "\n",
    "p1 = np.array([9,2])\n",
    "p2 = np.array([11,6])\n",
    "p3 = np.array([3,5])\n",
    "p4 = np.array([1,1])\n",
    "\n",
    "def m(p,q):\n",
    "    return (q[1]-p[1])/(q[0]-p[0])"
   ]
  },
  {
   "cell_type": "code",
   "execution_count": 3,
   "metadata": {},
   "outputs": [
    {
     "name": "stdout",
     "output_type": "stream",
     "text": [
      "-0.982793723247329\n",
      "0.982793723247329\n",
      "-0.982793723247329\n",
      "0.982793723247329\n"
     ]
    }
   ],
   "source": [
    "print(angulo(m(p1,p2),m(p2,p3)))\n",
    "print(angulo(m(p2,p3),m(p3,p4)))\n",
    "print(angulo(m(p3,p4),m(p4,p1)))\n",
    "print(angulo(m(p4,p1),m(p1,p2)))"
   ]
  },
  {
   "cell_type": "code",
   "execution_count": 3,
   "metadata": {},
   "outputs": [
    {
     "name": "stdout",
     "output_type": "stream",
     "text": [
      "9.273618495495704\n",
      "9.273618495495704\n",
      "9.273618495495704\n"
     ]
    }
   ],
   "source": [
    "import numpy as np\n",
    "\n",
    "p1 = np.array([-2,4,-3])\n",
    "p2 = np.array([4,-3,-2])\n",
    "p3 = np.array([-3,-2,4])\n",
    "\n",
    "print(np.linalg.norm(p1-p2))\n",
    "print(np.linalg.norm(p2-p3))\n",
    "print(np.linalg.norm(p1-p3))"
   ]
  },
  {
   "cell_type": "markdown",
   "metadata": {},
   "source": [
    "Tarea 1"
   ]
  },
  {
   "cell_type": "code",
   "execution_count": 26,
   "metadata": {},
   "outputs": [
    {
     "name": "stdout",
     "output_type": "stream",
     "text": [
      "0.5191461142465229 0.9272952180016122 -1.446441332248135\n",
      "La suma, as is, es: 0.0\n",
      "La suma, ajustada, es: 3.141592653589793\n",
      "La suma debe ser 3.141592653589793\n",
      "0.12435499454676147 1.695151321341658\n"
     ]
    }
   ],
   "source": [
    "import numpy as np\n",
    "\n",
    "a = np.array([-3, 2])\n",
    "b = np.array([7, 2])\n",
    "c = np.array([4,-2])\n",
    "\n",
    "m_ac = m(a,c)\n",
    "m_ab = m(a,b)\n",
    "m_bc = m(b,c)\n",
    "\n",
    "t1 = angulo(m_ac,m_ab)\n",
    "t2 = angulo(m_ab,m_bc)\n",
    "t3 = angulo(m_bc,m_ac)\n",
    "\n",
    "print(t1,t2,t3)\n",
    "\n",
    "print(f\"La suma, as is, es: {t1+t2+t3}\") \n",
    "print(f\"La suma, ajustada, es: {t1+t2+(t3+np.pi)}\") \n",
    "print(f\"La suma debe ser {np.pi}\")\n",
    "\n",
    "print(t3+np.pi/2,t3+np.pi)"
   ]
  },
  {
   "cell_type": "code",
   "execution_count": null,
   "metadata": {},
   "outputs": [],
   "source": []
  }
 ],
 "metadata": {
  "kernelspec": {
   "display_name": "Python 3.8.10 64-bit",
   "language": "python",
   "name": "python3"
  },
  "language_info": {
   "codemirror_mode": {
    "name": "ipython",
    "version": 3
   },
   "file_extension": ".py",
   "mimetype": "text/x-python",
   "name": "python",
   "nbconvert_exporter": "python",
   "pygments_lexer": "ipython3",
   "version": "3.8.10"
  },
  "orig_nbformat": 4,
  "vscode": {
   "interpreter": {
    "hash": "31f2aee4e71d21fbe5cf8b01ff0e069b9275f58929596ceb00d14d90e3e16cd6"
   }
  }
 },
 "nbformat": 4,
 "nbformat_minor": 2
}
