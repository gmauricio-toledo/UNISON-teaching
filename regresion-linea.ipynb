{
 "cells": [
  {
   "cell_type": "code",
   "execution_count": 1,
   "metadata": {},
   "outputs": [],
   "source": [
    "import numpy as np"
   ]
  },
  {
   "cell_type": "code",
   "execution_count": 52,
   "metadata": {},
   "outputs": [],
   "source": [
    "import numpy as np\n",
    "import matplotlib.pyplot as plt\n",
    "\n",
    "\n",
    "class Regresion_Lineal:\n",
    "    \n",
    "    def __init__(self):\n",
    "        pass        \n",
    "\n",
    "    def fit(self,datos):\n",
    "        self.datos = datos.copy()\n",
    "        self.n = datos.shape[1]\n",
    "        x_prom = np.mean(datos,axis=1)[0]\n",
    "        y_prom = np.mean(datos,axis=1)[1]\n",
    "        sum_prod = np.sum(datos[0,:]*datos[1,:])\n",
    "        sum_x_sqrs = np.sum(datos[0,:]*datos[0,:])\n",
    "        sum_x = np.sum(datos[0,:])\n",
    "        sum_y = np.sum(datos[1,:])\n",
    "        self.a_1 = (self.n*sum_prod - sum_x*sum_y)/(self.n*sum_x_sqrs - sum_x**2)\n",
    "        self.a_0 = y_prom - self.a_1*x_prom\n",
    "        return self.a_0,self.a_1\n",
    "    \n",
    "    def line(self,x):\n",
    "        return self.a_0 + self.a_1*x\n",
    "\n",
    "    def plot(self):\n",
    "        xmin, xmax = np.min(self.datos[0,:]), np.max(self.datos[0,:])\n",
    "        xaxis = np.linspace(xmin-1,xmax+1,num=50)\n",
    "        plt.figure(dpi=100)\n",
    "        plt.scatter(self.datos[0,:],self.datos[1,:],color='black')\n",
    "        plt.plot(xaxis,[self.line(x) for x in xaxis],color='red')\n",
    "        plt.show()\n",
    "\n",
    "    def metrics(self):\n",
    "        S_t = np.sum((self.datos[1,:]-np.mean(self.datos,axis=1)[1])**2)\n",
    "        S_r = np.sum((self.datos[1,:]-self.line(self.datos[0,:]))**2)\n",
    "        s_y = np.sqrt(S_t/(self.n-1))\n",
    "        s_yx = np.sqrt(S_r/(self.n-2))\n",
    "        r2 = (S_t-S_r)/S_t\n",
    "        print(f\"Error respecto al promedio: {S_t}\")\n",
    "        print(f\"Error cuadrático: {S_r}\")\n",
    "        print(f\"S_r<S_t : {S_r<S_t}\")\n",
    "        print(f\"Desviación estandar de los datos y_i: {s_y}\")\n",
    "        print(f\"Error estandar de la estimación: {s_yx}\")\n",
    "        print(f\"S_r<S_t : {s_yx<s_y}\")\n",
    "        print(f\"Coeficiente de determinación: {r2}\")\n",
    "\n",
    "\n"
   ]
  },
  {
   "cell_type": "code",
   "execution_count": 53,
   "metadata": {},
   "outputs": [
    {
     "name": "stdout",
     "output_type": "stream",
     "text": [
      "4.851535380507342 0.35246995994659547\n"
     ]
    },
    {
     "data": {
      "image/png": "[encoded data removed]",
      "text/plain": [
       "<Figure size 600x400 with 1 Axes>"
      ]
     },
     "metadata": {
      "needs_background": "light"
     },
     "output_type": "display_data"
    },
    {
     "name": "stdout",
     "output_type": "stream",
     "text": [
      "Error respecto al promedio: 55.599999999999994\n",
      "Error cuadrático: 9.073965287049402\n",
      "S_r<S_t : True\n",
      "Desviación estandar de los datos y_i: 2.485513584307633\n",
      "Error estandar de la estimación: 1.065009699900041\n",
      "S_r<S_t : True\n",
      "Coeficiente de determinación: 0.836799185484723\n"
     ]
    }
   ],
   "source": [
    "datos = np.array([[0,2,4,6,9,11,12,15,17,19],[5,6,7,6,9,8,7,10,12,12]])\n",
    "\n",
    "lr = Regresion_Lineal()\n",
    "a_0, a_1 = lr.fit(datos)\n",
    "print(a_0,a_1)\n",
    "\n",
    "lr.plot()\n",
    "lr.metrics()\n"
   ]
  },
  {
   "cell_type": "code",
   "execution_count": 55,
   "metadata": {},
   "outputs": [
    {
     "name": "stdout",
     "output_type": "stream",
     "text": [
      "Datos:\n",
      "[[-4.5        -3.5        -2.5        -1.5        -0.5         0.5\n",
      "   1.5         2.5         3.5         4.5       ]\n",
      " [21.23447243 13.32860952  6.2287768   3.03048045  1.13253629  0.84222833\n",
      "   3.7398144   6.59667906 12.97450679 21.69424047]]\n"
     ]
    },
    {
     "data": {
      "image/png": "[encoded data removed]",
      "text/plain": [
       "<Figure size 600x400 with 1 Axes>"
      ]
     },
     "metadata": {
      "needs_background": "light"
     },
     "output_type": "display_data"
    },
    {
     "name": "stdout",
     "output_type": "stream",
     "text": [
      "Error respecto al promedio: 550.5018151328268\n",
      "Error cuadrático: 550.4155207449319\n",
      "S_r<S_t : True\n",
      "Desviación estandar de los datos y_i: 7.820925031483927\n",
      "Error estandar de la estimación: 8.294693490004105\n",
      "S_r<S_t : False\n",
      "Coeficiente de determinación: 0.00015675586441812918\n"
     ]
    }
   ],
   "source": [
    "noise = np.random.normal(loc=0,scale=0.5,size=10)\n",
    "\n",
    "xs = np.array(list(range(10)))-4.5\n",
    "ys = np.array([1+x**2  for x in xs]) + noise\n",
    "datos = np.vstack((xs,ys))\n",
    "print(f\"Datos:\\n{datos}\")\n",
    "\n",
    "lr = Regresion_Lineal()\n",
    "lr.fit(datos)\n",
    "lr.plot()\n",
    "lr.metrics()\n"
   ]
  },
  {
   "cell_type": "code",
   "execution_count": null,
   "metadata": {},
   "outputs": [],
   "source": []
  }
 ],
 "metadata": {
  "kernelspec": {
   "display_name": "Python 3.8.10 64-bit",
   "language": "python",
   "name": "python3"
  },
  "language_info": {
   "codemirror_mode": {
    "name": "ipython",
    "version": 3
   },
   "file_extension": ".py",
   "mimetype": "text/x-python",
   "name": "python",
   "nbconvert_exporter": "python",
   "pygments_lexer": "ipython3",
   "version": "3.8.10"
  },
  "orig_nbformat": 4,
  "vscode": {
   "interpreter": {
    "hash": "916dbcbb3f70747c44a77c7bcd40155683ae19c65e1c03b4aa3499c5328201f1"
   }
  }
 },
 "nbformat": 4,
 "nbformat_minor": 2
}
