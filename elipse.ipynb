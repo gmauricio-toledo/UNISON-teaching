{
 "cells": [
  {
   "cell_type": "code",
   "execution_count": 15,
   "metadata": {},
   "outputs": [],
   "source": [
    "from math import sqrt\n",
    "\n",
    "def centro(params):\n",
    "    if is_elipse(params)[0]:\n",
    "        (A,B,D,E,F) = params \n",
    "        return [-D/(2*A),-E/(2*B)]\n",
    "    else:\n",
    "        print(\"Not an ellipse\")\n",
    "\n",
    "def ejes(params):\n",
    "    if is_elipse(params)[0]:\n",
    "        (A,B,D,E,F) = params \n",
    "        eje1 = (1/(2*A)*sqrt((B*D**2+A*E**2-4*A*B*F)/(B)))\n",
    "        eje2 = (1/(2*B)*sqrt((B*D**2+A*E**2-4*A*B*F)/(A)))\n",
    "        return (eje1,eje2)\n",
    "    else:\n",
    "        print(\"Not an ellipse\")\n",
    "\n",
    "def is_elipse(params):\n",
    "    (A,B,D,E,F) = params\n",
    "    x = B*D**2+A*E**2-4*A*B*F\n",
    "    if A*B>0:\n",
    "        if x>0:\n",
    "            return (True,x)\n",
    "        else:\n",
    "            return (False,x)\n",
    "    else:\n",
    "        return (False,x)"
   ]
  },
  {
   "cell_type": "code",
   "execution_count": 16,
   "metadata": {},
   "outputs": [
    {
     "name": "stdout",
     "output_type": "stream",
     "text": [
      "(True, 256)\n",
      "[-3.0, 3.0]\n",
      "(2.0, 4.0)\n"
     ]
    }
   ],
   "source": [
    "parametros = (4,1,24,-6,29)\n",
    "\n",
    "print(is_elipse(parametros))\n",
    "print(centro(parametros))\n",
    "print(ejes(parametros))"
   ]
  },
  {
   "cell_type": "code",
   "execution_count": 17,
   "metadata": {},
   "outputs": [
    {
     "name": "stdout",
     "output_type": "stream",
     "text": [
      "(True, 82944)\n",
      "[5.0, -6.0]\n",
      "(4.0, 3.0)\n"
     ]
    }
   ],
   "source": [
    "parametros = (9,16,-90,192,657)\n",
    "\n",
    "print(is_elipse(parametros))\n",
    "print(centro(parametros))\n",
    "print(ejes(parametros))"
   ]
  },
  {
   "cell_type": "code",
   "execution_count": 18,
   "metadata": {},
   "outputs": [
    {
     "name": "stdout",
     "output_type": "stream",
     "text": [
      "(True, 202500)\n",
      "[-1.0, 4.0]\n",
      "(3.0, 5.0)\n"
     ]
    }
   ],
   "source": [
    "parametros = (25,9,50,-72,-56)\n",
    "\n",
    "print(is_elipse(parametros))\n",
    "print(centro(parametros))\n",
    "print(ejes(parametros))"
   ]
  },
  {
   "cell_type": "code",
   "execution_count": 19,
   "metadata": {},
   "outputs": [
    {
     "name": "stdout",
     "output_type": "stream",
     "text": [
      "(False, 56700)\n",
      "Not an ellipse\n",
      "None\n",
      "Not an ellipse\n",
      "None\n"
     ]
    }
   ],
   "source": [
    "parametros = (25,-9,50,-72,-56)\n",
    "\n",
    "print(is_elipse(parametros))\n",
    "print(centro(parametros))\n",
    "print(ejes(parametros))"
   ]
  },
  {
   "cell_type": "code",
   "execution_count": null,
   "metadata": {},
   "outputs": [],
   "source": []
  }
 ],
 "metadata": {
  "kernelspec": {
   "display_name": "Python 3",
   "language": "python",
   "name": "python3"
  },
  "language_info": {
   "codemirror_mode": {
    "name": "ipython",
    "version": 3
   },
   "file_extension": ".py",
   "mimetype": "text/x-python",
   "name": "python",
   "nbconvert_exporter": "python",
   "pygments_lexer": "ipython3",
   "version": "3.8.10"
  },
  "orig_nbformat": 4
 },
 "nbformat": 4,
 "nbformat_minor": 2
}
