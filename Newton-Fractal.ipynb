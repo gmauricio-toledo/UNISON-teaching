{
 "cells": [
  {
   "cell_type": "code",
   "execution_count": 1,
   "metadata": {},
   "outputs": [],
   "source": [
    "import matplotlib.pyplot as plt\n",
    "import numpy as np\n",
    "from roots import RootFinder"
   ]
  },
  {
   "cell_type": "code",
   "execution_count": 2,
   "metadata": {},
   "outputs": [
    {
     "data": {
      "image/png": "[encoded data removed]",
      "text/plain": [
       "<Figure size 600x400 with 1 Axes>"
      ]
     },
     "metadata": {
      "needs_background": "light"
     },
     "output_type": "display_data"
    }
   ],
   "source": [
    "def f(x):\n",
    "    return 2-x-2*x**2 + x**3\n",
    "    # return x**6 - 6*x**5 + 8*x**4 + 10*x**3 - 21*x**2 - 4*x + 12\n",
    "\n",
    "def df(x):\n",
    "    return 3*x**2-4*x-1\n",
    "    # return -4-42*x + 30*x**2 + 32*x**3 - 30*x**4 + 6*x**5\n",
    "\n",
    "x_axis = np.linspace(-1.5,3,200)\n",
    "plt.figure(dpi=100)\n",
    "plt.plot(x_axis,[f(x) for x in x_axis],color='black')\n",
    "plt.plot(x_axis,[0 for x in x_axis],color='gray')\n",
    "plt.show()"
   ]
  },
  {
   "cell_type": "code",
   "execution_count": 3,
   "metadata": {},
   "outputs": [
    {
     "data": {
      "text/plain": [
       "-1.0000057220458984"
      ]
     },
     "execution_count": 3,
     "metadata": {},
     "output_type": "execute_result"
    }
   ],
   "source": [
    "rf = RootFinder()\n",
    "rf.fit(f=f,x0=-2,x1=0.5,tolerance=0.00001,method='bisection',df=df)"
   ]
  },
  {
   "cell_type": "code",
   "execution_count": 4,
   "metadata": {},
   "outputs": [
    {
     "data": {
      "text/html": [
       "<div>\n",
       "<style scoped>\n",
       "    .dataframe tbody tr th:only-of-type {\n",
       "        vertical-align: middle;\n",
       "    }\n",
       "\n",
       "    .dataframe tbody tr th {\n",
       "        vertical-align: top;\n",
       "    }\n",
       "\n",
       "    .dataframe thead th {\n",
       "        text-align: right;\n",
       "    }\n",
       "</style>\n",
       "<table border=\"1\" class=\"dataframe\">\n",
       "  <thead>\n",
       "    <tr style=\"text-align: right;\">\n",
       "      <th></th>\n",
       "      <th>n_iter</th>\n",
       "      <th>root</th>\n",
       "      <th>error</th>\n",
       "      <th>f(x)</th>\n",
       "    </tr>\n",
       "  </thead>\n",
       "  <tbody>\n",
       "    <tr>\n",
       "      <th>0</th>\n",
       "      <td>1</td>\n",
       "      <td>-0.75000</td>\n",
       "      <td>1.66667</td>\n",
       "      <td>1.20312</td>\n",
       "    </tr>\n",
       "    <tr>\n",
       "      <th>1</th>\n",
       "      <td>2</td>\n",
       "      <td>-1.37500</td>\n",
       "      <td>0.45455</td>\n",
       "      <td>-3.00586</td>\n",
       "    </tr>\n",
       "    <tr>\n",
       "      <th>2</th>\n",
       "      <td>3</td>\n",
       "      <td>-1.06250</td>\n",
       "      <td>0.29412</td>\n",
       "      <td>-0.39478</td>\n",
       "    </tr>\n",
       "    <tr>\n",
       "      <th>3</th>\n",
       "      <td>4</td>\n",
       "      <td>-0.90625</td>\n",
       "      <td>0.17241</td>\n",
       "      <td>0.51938</td>\n",
       "    </tr>\n",
       "    <tr>\n",
       "      <th>4</th>\n",
       "      <td>5</td>\n",
       "      <td>-0.98438</td>\n",
       "      <td>0.07937</td>\n",
       "      <td>0.09253</td>\n",
       "    </tr>\n",
       "    <tr>\n",
       "      <th>5</th>\n",
       "      <td>6</td>\n",
       "      <td>-1.02344</td>\n",
       "      <td>0.03817</td>\n",
       "      <td>-0.14338</td>\n",
       "    </tr>\n",
       "    <tr>\n",
       "      <th>6</th>\n",
       "      <td>7</td>\n",
       "      <td>-1.00391</td>\n",
       "      <td>0.01946</td>\n",
       "      <td>-0.02351</td>\n",
       "    </tr>\n",
       "    <tr>\n",
       "      <th>7</th>\n",
       "      <td>8</td>\n",
       "      <td>-0.99414</td>\n",
       "      <td>0.00982</td>\n",
       "      <td>0.03498</td>\n",
       "    </tr>\n",
       "    <tr>\n",
       "      <th>8</th>\n",
       "      <td>9</td>\n",
       "      <td>-0.99902</td>\n",
       "      <td>0.00489</td>\n",
       "      <td>0.00585</td>\n",
       "    </tr>\n",
       "    <tr>\n",
       "      <th>9</th>\n",
       "      <td>10</td>\n",
       "      <td>-1.00146</td>\n",
       "      <td>0.00244</td>\n",
       "      <td>-0.00880</td>\n",
       "    </tr>\n",
       "    <tr>\n",
       "      <th>10</th>\n",
       "      <td>11</td>\n",
       "      <td>-1.00024</td>\n",
       "      <td>0.00122</td>\n",
       "      <td>-0.00147</td>\n",
       "    </tr>\n",
       "    <tr>\n",
       "      <th>11</th>\n",
       "      <td>12</td>\n",
       "      <td>-0.99963</td>\n",
       "      <td>0.00061</td>\n",
       "      <td>0.00220</td>\n",
       "    </tr>\n",
       "    <tr>\n",
       "      <th>12</th>\n",
       "      <td>13</td>\n",
       "      <td>-0.99994</td>\n",
       "      <td>0.00031</td>\n",
       "      <td>0.00037</td>\n",
       "    </tr>\n",
       "    <tr>\n",
       "      <th>13</th>\n",
       "      <td>14</td>\n",
       "      <td>-1.00009</td>\n",
       "      <td>0.00015</td>\n",
       "      <td>-0.00055</td>\n",
       "    </tr>\n",
       "    <tr>\n",
       "      <th>14</th>\n",
       "      <td>15</td>\n",
       "      <td>-1.00002</td>\n",
       "      <td>0.00008</td>\n",
       "      <td>-0.00009</td>\n",
       "    </tr>\n",
       "    <tr>\n",
       "      <th>15</th>\n",
       "      <td>16</td>\n",
       "      <td>-0.99998</td>\n",
       "      <td>0.00004</td>\n",
       "      <td>0.00014</td>\n",
       "    </tr>\n",
       "    <tr>\n",
       "      <th>16</th>\n",
       "      <td>17</td>\n",
       "      <td>-1.00000</td>\n",
       "      <td>0.00002</td>\n",
       "      <td>0.00002</td>\n",
       "    </tr>\n",
       "    <tr>\n",
       "      <th>17</th>\n",
       "      <td>18</td>\n",
       "      <td>-1.00001</td>\n",
       "      <td>0.00001</td>\n",
       "      <td>-0.00003</td>\n",
       "    </tr>\n",
       "  </tbody>\n",
       "</table>\n",
       "</div>"
      ],
      "text/plain": [
       "    n_iter     root    error     f(x)\n",
       "0        1 -0.75000  1.66667  1.20312\n",
       "1        2 -1.37500  0.45455 -3.00586\n",
       "2        3 -1.06250  0.29412 -0.39478\n",
       "3        4 -0.90625  0.17241  0.51938\n",
       "4        5 -0.98438  0.07937  0.09253\n",
       "5        6 -1.02344  0.03817 -0.14338\n",
       "6        7 -1.00391  0.01946 -0.02351\n",
       "7        8 -0.99414  0.00982  0.03498\n",
       "8        9 -0.99902  0.00489  0.00585\n",
       "9       10 -1.00146  0.00244 -0.00880\n",
       "10      11 -1.00024  0.00122 -0.00147\n",
       "11      12 -0.99963  0.00061  0.00220\n",
       "12      13 -0.99994  0.00031  0.00037\n",
       "13      14 -1.00009  0.00015 -0.00055\n",
       "14      15 -1.00002  0.00008 -0.00009\n",
       "15      16 -0.99998  0.00004  0.00014\n",
       "16      17 -1.00000  0.00002  0.00002\n",
       "17      18 -1.00001  0.00001 -0.00003"
      ]
     },
     "metadata": {},
     "output_type": "display_data"
    }
   ],
   "source": [
    "rf.print_table()"
   ]
  },
  {
   "cell_type": "code",
   "execution_count": 5,
   "metadata": {},
   "outputs": [
    {
     "data": {
      "image/png": "[encoded data removed]",
      "text/plain": [
       "<Figure size 600x400 with 1 Axes>"
      ]
     },
     "metadata": {
      "needs_background": "light"
     },
     "output_type": "display_data"
    }
   ],
   "source": [
    "rf.plot(window=1)"
   ]
  },
  {
   "cell_type": "markdown",
   "metadata": {},
   "source": [
    "# Explorar regiones"
   ]
  },
  {
   "cell_type": "code",
   "execution_count": 46,
   "metadata": {},
   "outputs": [
    {
     "data": {
      "image/png": "[encoded data removed]",
      "text/plain": [
       "<Figure size 600x400 with 1 Axes>"
      ]
     },
     "metadata": {
      "needs_background": "light"
     },
     "output_type": "display_data"
    }
   ],
   "source": [
    "a,b = -1.5,3.5\n",
    "\n",
    "seeds = np.linspace(a,b,num=200)\n",
    "roots = np.array([-1,1,2])\n",
    "zones = [[] for x in roots]\n",
    "\n",
    "for x0 in seeds:\n",
    "    rf = RootFinder()\n",
    "    root = rf.fit(f=f,x0=x0,tolerance=0.00001,method='newton',df=df)\n",
    "    if np.where(np.abs(roots-root)<0.0001)[0].shape[0] == 1:\n",
    "        idx = np.where(np.abs(roots-root)<0.0001)[0][0]\n",
    "        zones[idx].append(x0)\n",
    "\n",
    "plt.figure(dpi=100)\n",
    "x_axis = np.linspace(a,b,200)\n",
    "for j,zone in enumerate(zones):\n",
    "    plt.scatter(zone,[0 for x in zone],label=str(roots[j]))\n",
    "plt.plot(x_axis,[f(x) for x in x_axis],color='black')\n",
    "plt.scatter(roots,[0 for x in roots],color='black')\n",
    "plt.legend(loc='best')\n",
    "plt.show()\n"
   ]
  },
  {
   "cell_type": "code",
   "execution_count": null,
   "metadata": {},
   "outputs": [],
   "source": []
  }
 ],
 "metadata": {
  "kernelspec": {
   "display_name": "Python 3.8.10 64-bit",
   "language": "python",
   "name": "python3"
  },
  "language_info": {
   "codemirror_mode": {
    "name": "ipython",
    "version": 3
   },
   "file_extension": ".py",
   "mimetype": "text/x-python",
   "name": "python",
   "nbconvert_exporter": "python",
   "pygments_lexer": "ipython3",
   "version": "3.8.10"
  },
  "orig_nbformat": 4,
  "vscode": {
   "interpreter": {
    "hash": "916dbcbb3f70747c44a77c7bcd40155683ae19c65e1c03b4aa3499c5328201f1"
   }
  }
 },
 "nbformat": 4,
 "nbformat_minor": 2
}
