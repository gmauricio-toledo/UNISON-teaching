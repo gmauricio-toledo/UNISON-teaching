{
  "cells": [
    {
      "cell_type": "markdown",
      "metadata": {
        "id": "view-in-github",
        "colab_type": "text"
      },
      "source": [
        "<a href=\"https://colab.research.google.com/github/gmauricio-toledo/numerical-methods/blob/master/serie.ipynb\" target=\"_parent\"><img src=\"https://colab.research.google.com/assets/colab-badge.svg\" alt=\"Open In Colab\"/></a>"
      ]
    },
    {
      "cell_type": "markdown",
      "metadata": {
        "id": "JyUlri9EDwX_"
      },
      "source": [
        "$$(1+x)^{-n}=\\sum_{k=0}^\\infty (-1)^k \\left( \\begin{array}{c} n+k-1\\\\ k \\end{array}\\right) x^k$$"
      ]
    },
    {
      "cell_type": "code",
      "execution_count": null,
      "metadata": {
        "id": "MtiJwFTWDwYC",
        "outputId": "b2ff0761-d1f5-4a84-9926-e3517f93881f"
      },
      "outputs": [
        {
          "name": "stdout",
          "output_type": "stream",
          "text": [
            "Sumatoria parcial: 0.5882352941176471\n",
            "Valor real: 0.5882352941176471\n"
          ]
        }
      ],
      "source": [
        "from scipy.special import binom\n",
        "\n",
        "num_terminos = 100\n",
        "x = 0.7\n",
        "n = 1\n",
        "\n",
        "sum = 0\n",
        "for k in range(num_terminos):\n",
        "    sum += ((-1)**k)*binom(n+k-1,k)*(x**k)\n",
        "    # print(round(sum,4))\n",
        "\n",
        "print(f\"Sumatoria parcial: {sum}\")\n",
        "print(f\"Valor real: {1/((x+1)**n)}\")\n"
      ]
    },
    {
      "cell_type": "code",
      "execution_count": 4,
      "metadata": {
        "id": "QnhVF5scDwYF",
        "outputId": "3aa4da2b-89f2-4b84-ed2c-4741840cf95f",
        "colab": {
          "base_uri": "https://localhost:8080/"
        }
      },
      "outputs": [
        {
          "output_type": "stream",
          "name": "stdout",
          "text": [
            "Sumatoria parcial: 0.20354162426216124\n",
            "Valor real: 0.20354162426216163\n"
          ]
        }
      ],
      "source": [
        "from scipy.special import binom\n",
        "\n",
        "num_terminos = 1000\n",
        "x = 0.7\n",
        "n = 3\n",
        "\n",
        "sum = 0\n",
        "for k in range(num_terminos):\n",
        "    sum += ((-1)**k)*(k+2)*(k+1)*(x**k)/2\n",
        "    # print(round(sum,4))\n",
        "\n",
        "print(f\"Sumatoria parcial: {sum}\")\n",
        "print(f\"Valor real: {1/((x+1)**n)}\")"
      ]
    },
    {
      "cell_type": "code",
      "source": [],
      "metadata": {
        "id": "hCgGLXDXEX0b"
      },
      "execution_count": null,
      "outputs": []
    }
  ],
  "metadata": {
    "kernelspec": {
      "display_name": "Python 3.8.10 64-bit",
      "language": "python",
      "name": "python3"
    },
    "language_info": {
      "codemirror_mode": {
        "name": "ipython",
        "version": 3
      },
      "file_extension": ".py",
      "mimetype": "text/x-python",
      "name": "python",
      "nbconvert_exporter": "python",
      "pygments_lexer": "ipython3",
      "version": "3.8.10"
    },
    "orig_nbformat": 4,
    "vscode": {
      "interpreter": {
        "hash": "916dbcbb3f70747c44a77c7bcd40155683ae19c65e1c03b4aa3499c5328201f1"
      }
    },
    "colab": {
      "provenance": [],
      "include_colab_link": true
    }
  },
  "nbformat": 4,
  "nbformat_minor": 0
}