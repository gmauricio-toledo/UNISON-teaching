{
  "cells": [
    {
      "cell_type": "markdown",
      "metadata": {
        "id": "view-in-github",
        "colab_type": "text"
      },
      "source": [
        "<a href=\"https://colab.research.google.com/github/gmauricio-toledo/numerical-methods/blob/master/serie.ipynb\" target=\"_parent\"><img src=\"https://colab.research.google.com/assets/colab-badge.svg\" alt=\"Open In Colab\"/></a>"
      ]
    },
    {
      "cell_type": "markdown",
      "metadata": {
        "id": "Dc_L9HBaDeHz"
      },
      "source": [
        "$$(1+x)^{-n}=\\sum_{k=0}^\\infty (-1)^k \\left( \\begin{array}{c} n+k-1\\\\ k \\end{array}\\right) x^k$$"
      ]
    },
    {
      "cell_type": "code",
      "execution_count": 1,
      "metadata": {
        "id": "_Juwn2-NDeH1",
        "outputId": "299c22aa-a4b5-40ca-dbc5-d75fe2c57a4f",
        "colab": {
          "base_uri": "https://localhost:8080/"
        }
      },
      "outputs": [
        {
          "output_type": "stream",
          "name": "stdout",
          "text": [
            "Sumatoria parcial: 0.5882352941176471\n",
            "Valor real: 0.5882352941176471\n"
          ]
        }
      ],
      "source": [
        "from scipy.special import binom\n",
        "\n",
        "num_terminos = 100  # Números de términos a considerar en la serie\n",
        "x = 0.7             # Valor de x\n",
        "n = 1               # Exponente -n\n",
        "\n",
        "sum = 0\n",
        "for k in range(num_terminos):\n",
        "    sum += ((-1)**k)*binom(n+k-1,k)*(x**k)\n",
        "    # print(round(sum,4))\n",
        "\n",
        "print(f\"Sumatoria parcial: {sum}\")\n",
        "print(f\"Valor real: {1/((x+1)**n)}\")\n"
      ]
    },
    {
      "cell_type": "code",
      "execution_count": null,
      "metadata": {
        "id": "SzLqgr1EDeH3"
      },
      "outputs": [],
      "source": []
    }
  ],
  "metadata": {
    "kernelspec": {
      "display_name": "Python 3.8.10 64-bit",
      "language": "python",
      "name": "python3"
    },
    "language_info": {
      "codemirror_mode": {
        "name": "ipython",
        "version": 3
      },
      "file_extension": ".py",
      "mimetype": "text/x-python",
      "name": "python",
      "nbconvert_exporter": "python",
      "pygments_lexer": "ipython3",
      "version": "3.8.10"
    },
    "orig_nbformat": 4,
    "vscode": {
      "interpreter": {
        "hash": "916dbcbb3f70747c44a77c7bcd40155683ae19c65e1c03b4aa3499c5328201f1"
      }
    },
    "colab": {
      "provenance": [],
      "include_colab_link": true
    }
  },
  "nbformat": 4,
  "nbformat_minor": 0
}