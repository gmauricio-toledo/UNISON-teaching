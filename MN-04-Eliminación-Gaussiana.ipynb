{
 "cells": [
  {
   "cell_type": "code",
   "execution_count": 1,
   "metadata": {},
   "outputs": [
    {
     "name": "stdout",
     "output_type": "stream",
     "text": [
      "Inicial:\n",
      " [[3. 1. 1. 5.]\n",
      " [4. 4. 6. 6.]\n",
      " [4. 2. 3. 7.]]\n",
      "[[ 3.          1.          1.          5.        ]\n",
      " [ 0.          2.66666667  4.66666667 -0.66666667]\n",
      " [ 4.          2.          3.          7.        ]]\n",
      "[[ 3.          1.          1.          5.        ]\n",
      " [ 0.          2.66666667  4.66666667 -0.66666667]\n",
      " [ 0.          0.66666667  1.66666667  0.33333333]]\n",
      "[[ 3.          1.          1.          5.        ]\n",
      " [ 0.          2.66666667  4.66666667 -0.66666667]\n",
      " [ 0.          0.          0.5         0.5       ]]\n",
      "\n",
      "Final:\n",
      " [[ 3.          1.          1.          5.        ]\n",
      " [ 0.          2.66666667  4.66666667 -0.66666667]\n",
      " [ 0.          0.          0.5         0.5       ]]\n"
     ]
    }
   ],
   "source": [
    "import numpy as np\n",
    "\n",
    "# A = np.array([[3,2,1,-3,5,23],[-1,0,4,-1,1,12],[1,4,2,3,0,27],[2,-2,1,-1,0,-3],[3,1,1,7,-5,11]],dtype=float)\n",
    "A = np.array([[3,1,1,5],[4,4,6,6],[4,2,3,7]],dtype=float)\n",
    "print(\"Inicial:\\n\", A)\n",
    "\n",
    "n = A.shape[0]\n",
    "\n",
    "for k in range(n-1):\n",
    "    for i in range(k+1,n):\n",
    "        ratio = A[i,k]/A[k,k]\n",
    "        for j in range(k,n+1):\n",
    "            A[i,j] = A[i,j]-ratio*A[k,j]\n",
    "        print(A)\n",
    "\n",
    "print(\"\\nFinal:\\n\",A)"
   ]
  },
  {
   "cell_type": "markdown",
   "metadata": {},
   "source": [
    "En MatLab se puede usar la notación `variables = A(:,end)`"
   ]
  },
  {
   "cell_type": "code",
   "execution_count": 2,
   "metadata": {},
   "outputs": [
    {
     "name": "stdout",
     "output_type": "stream",
     "text": [
      "Valor de las variables:\n",
      " [ 2. -2.  1.]\n"
     ]
    }
   ],
   "source": [
    "variables = A[:,n]\n",
    "\n",
    "for k in reversed(range(n)):\n",
    "    for j in range(k+1,n):\n",
    "        variables[k] = variables[k] - A[k,j]*variables[j] \n",
    "    variables[k] = variables[k]/A[k,k]\n",
    "\n",
    "print(\"Valor de las variables:\\n\",variables)"
   ]
  },
  {
   "cell_type": "code",
   "execution_count": null,
   "metadata": {},
   "outputs": [],
   "source": []
  }
 ],
 "metadata": {
  "kernelspec": {
   "display_name": "Python 3.8.10 64-bit",
   "language": "python",
   "name": "python3"
  },
  "language_info": {
   "codemirror_mode": {
    "name": "ipython",
    "version": 3
   },
   "file_extension": ".py",
   "mimetype": "text/x-python",
   "name": "python",
   "nbconvert_exporter": "python",
   "pygments_lexer": "ipython3",
   "version": "3.8.10"
  },
  "orig_nbformat": 4,
  "vscode": {
   "interpreter": {
    "hash": "916dbcbb3f70747c44a77c7bcd40155683ae19c65e1c03b4aa3499c5328201f1"
   }
  }
 },
 "nbformat": 4,
 "nbformat_minor": 2
}
