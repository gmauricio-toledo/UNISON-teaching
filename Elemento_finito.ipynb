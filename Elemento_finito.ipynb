{
  "nbformat": 4,
  "nbformat_minor": 0,
  "metadata": {
    "colab": {
      "provenance": [],
      "authorship_tag": "ABX9TyOFap9Dbvh7upb8YSxpWwr9",
      "include_colab_link": true
    },
    "kernelspec": {
      "name": "python3",
      "display_name": "Python 3"
    },
    "language_info": {
      "name": "python"
    }
  },
  "cells": [
    {
      "cell_type": "markdown",
      "metadata": {
        "id": "view-in-github",
        "colab_type": "text"
      },
      "source": [
        "<a href=\"https://colab.research.google.com/github/gmauricio-toledo/numerical-methods/blob/master/Elemento_finito.ipynb\" target=\"_parent\"><img src=\"https://colab.research.google.com/assets/colab-badge.svg\" alt=\"Open In Colab\"/></a>"
      ]
    },
    {
      "cell_type": "code",
      "execution_count": 37,
      "metadata": {
        "colab": {
          "base_uri": "https://localhost:8080/",
          "height": 983
        },
        "id": "-ubwXd7TgsU8",
        "outputId": "f8c500c7-1b16-4fd8-da4f-5b01bf837360"
      },
      "outputs": [
        {
          "output_type": "stream",
          "name": "stdout",
          "text": [
            "[[  0.         100.         100.         100.           0.        ]\n",
            " [ 75.          80.12695312  74.46899414  96.99554443  50.        ]\n",
            " [ 75.          38.671875    18.45703125  34.18579102  50.        ]\n",
            " [ 75.          28.125       10.546875    22.70507812  50.        ]\n",
            " [  0.           0.           0.           0.           0.        ]]\n"
          ]
        },
        {
          "output_type": "display_data",
          "data": {
            "text/plain": [
              "<Figure size 432x288 with 1 Axes>"
            ],
            "image/png": "[encoded data removed]"
          },
          "metadata": {}
        },
        {
          "output_type": "stream",
          "name": "stdout",
          "text": [
            "[[  0.         100.         100.         100.           0.        ]\n",
            " [ 75.          75.21972656  87.95871735  67.68736839  50.        ]\n",
            " [ 75.          57.95288086  61.63330078  71.86832428  50.        ]\n",
            " [ 75.          32.51953125  22.35717773  28.60107422  50.        ]\n",
            " [  0.           0.           0.           0.           0.        ]]\n"
          ]
        },
        {
          "output_type": "display_data",
          "data": {
            "text/plain": [
              "<Figure size 432x288 with 1 Axes>"
            ],
            "image/png": "[encoded data removed]"
          },
          "metadata": {}
        },
        {
          "output_type": "stream",
          "name": "stdout",
          "text": [
            "[[  0.         100.         100.         100.           0.        ]\n",
            " [ 75.          85.82897186  76.72002912  70.30309886  50.        ]\n",
            " [ 75.          66.2115097   68.34869385  51.00472569  50.        ]\n",
            " [ 75.          41.98150635  38.40236664  45.80097198  50.        ]\n",
            " [  0.           0.           0.           0.           0.        ]]\n"
          ]
        },
        {
          "output_type": "display_data",
          "data": {
            "text/plain": [
              "<Figure size 432x288 with 1 Axes>"
            ],
            "image/png": "[encoded data removed]"
          },
          "metadata": {}
        }
      ],
      "source": [
        "import numpy as np\n",
        "from time import sleep\n",
        "import matplotlib.pyplot as plt\n",
        "\n",
        "\n",
        "# Hiperparámetros\n",
        "n = 3\n",
        "A = np.zeros((n+2,n+2))\n",
        "n_iteraciones = 3\n",
        "factor_sr = 1.5\n",
        "assert factor_sr>=1 and factor_sr<=2\n",
        "\n",
        "# condiciones iniciales\n",
        "A[0,1:-1] = 100\n",
        "A[1:-1,0] = 75\n",
        "A[-1,1:-1] = 0\n",
        "A[1:-1,-1] = 50\n",
        "\n",
        "# Método\n",
        "for k in range(n_iteraciones):\n",
        "    # i,j tienen la misma interpretación que en el planteamiento del problema\n",
        "    for j in range(1,n+1): # Columna (coordenada en y)\n",
        "        for i in range(1,n+1): # Fila (coordenada en x)\n",
        "            new_iy = n+1-j\n",
        "            new_ix = i\n",
        "            new_value = (A[new_iy+1,new_ix]+A[new_iy-1,new_ix]+A[new_iy,new_ix+1]+A[new_iy,new_ix-1])/4\n",
        "            A[new_iy,new_ix] = factor_sr*new_value + (1-factor_sr)*A[new_iy,new_ix]\n",
        "    print(A)      \n",
        "    plt.figure()\n",
        "    plt.imshow(A,cmap='plasma')\n",
        "    plt.xticks([])\n",
        "    plt.yticks([])\n",
        "    plt.show()  "
      ]
    },
    {
      "cell_type": "code",
      "source": [
        "from matplotlib import pyplot as plt\n",
        "from matplotlib.animation import FuncAnimation\n",
        "import numpy as np\n",
        "\n",
        "# Hiperparámetros\n",
        "n = 10\n",
        "A = np.zeros((n+2,n+2))\n",
        "n_iteraciones = 15\n",
        "factor_sr = 1.5\n",
        "assert factor_sr>=1 and factor_sr<=2\n",
        "\n",
        "# condiciones iniciales\n",
        "A[0,1:-1] = 100\n",
        "A[1:-1,0] = 75\n",
        "A[-1,1:-1] = 0\n",
        "A[1:-1,-1] = 50\n",
        "\n",
        "figure, ax = plt.subplots()\n",
        "ax.set_xticks([])\n",
        "ax.set_yticks([])\n",
        "  \n",
        "def animation_function(i):\n",
        "    if i!=0:\n",
        "        for j in range(1,n+1): # Columna (coordenada en y)\n",
        "            for i in range(1,n+1): # Fila (coordenada en x)\n",
        "                new_iy = n+1-j\n",
        "                new_ix = i\n",
        "                new_value = (A[new_iy+1,new_ix]+A[new_iy-1,new_ix]+A[new_iy,new_ix+1]+A[new_iy,new_ix-1])/4\n",
        "                A[new_iy,new_ix] = factor_sr*new_value + (1-factor_sr)*A[new_iy,new_ix]\n",
        "    return ax.imshow(A,cmap='plasma')\n",
        "  \n",
        "animation = FuncAnimation(figure,\n",
        "                          func = animation_function,\n",
        "                          frames = range(n_iteraciones), \n",
        "                          interval = 600)\n",
        "animation.save(\"heat.mp4\")"
      ],
      "metadata": {
        "id": "G18X4tjbg7Rx",
        "outputId": "f5fe3a73-a3c7-4de0-b17a-149d8eaa5d01",
        "colab": {
          "base_uri": "https://localhost:8080/",
          "height": 252
        }
      },
      "execution_count": 35,
      "outputs": [
        {
          "output_type": "display_data",
          "data": {
            "text/plain": [
              "<Figure size 432x288 with 1 Axes>"
            ],
            "image/png": "[encoded data removed]"
          },
          "metadata": {}
        }
      ]
    },
    {
      "cell_type": "code",
      "source": [],
      "metadata": {
        "id": "aiAWJsC4cU-5"
      },
      "execution_count": null,
      "outputs": []
    }
  ]
}