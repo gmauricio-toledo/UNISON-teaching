{
  "nbformat": 4,
  "nbformat_minor": 0,
  "metadata": {
    "colab": {
      "provenance": [],
      "authorship_tag": "ABX9TyMDlRVy+aIRsav+7CPRhk0H",
      "include_colab_link": true
    },
    "kernelspec": {
      "name": "python3",
      "display_name": "Python 3"
    },
    "language_info": {
      "name": "python"
    }
  },
  "cells": [
    {
      "cell_type": "markdown",
      "metadata": {
        "id": "view-in-github",
        "colab_type": "text"
      },
      "source": [
        "<a href=\"https://colab.research.google.com/github/gmauricio-toledo/numerical-methods/blob/master/Elemento_finito.ipynb\" target=\"_parent\"><img src=\"https://colab.research.google.com/assets/colab-badge.svg\" alt=\"Open In Colab\"/></a>"
      ]
    },
    {
      "cell_type": "code",
      "execution_count": 11,
      "metadata": {
        "colab": {
          "base_uri": "https://localhost:8080/"
        },
        "id": "-ubwXd7TgsU8",
        "outputId": "6c156cb9-a1b6-4e8e-91be-1b135a97182f"
      },
      "outputs": [
        {
          "output_type": "execute_result",
          "data": {
            "text/plain": [
              "array([[  0., 100., 100., 100.,   0.],\n",
              "       [ 75.,   0.,   0.,   0.,  50.],\n",
              "       [ 75.,   0.,   0.,   0.,  50.],\n",
              "       [ 75.,   0.,   0.,   0.,  50.],\n",
              "       [  0.,   0.,   0.,   0.,   0.]])"
            ]
          },
          "metadata": {},
          "execution_count": 11
        }
      ],
      "source": [
        "import numpy as np\n",
        "\n",
        "n = 3\n",
        "A = np.zeros((n+2,n+2))\n",
        "\n",
        "# condiciones iniciales\n",
        "A[0,1:-1] = 100\n",
        "A[1:-1,0] = 75\n",
        "A[-1,1:-1] = 0\n",
        "A[1:-1,-1] = 50\n",
        "\n",
        "# Método\n",
        "for k in range(3):\n",
        "    for i in range(1,n+2):\n",
        "        for j in range(1,n+2):\n",
        "            new_ix = 0\n",
        "            new_iy = 0\n",
        "            A[new_ix,new_iy] = (A[n+1-j,i]+A[,]+A[,]+A[,])/4\n",
        "\n",
        "\n",
        "A"
      ]
    },
    {
      "cell_type": "code",
      "source": [],
      "metadata": {
        "id": "G18X4tjbg7Rx"
      },
      "execution_count": null,
      "outputs": []
    }
  ]
}