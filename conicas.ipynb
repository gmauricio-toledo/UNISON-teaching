{
 "cells": [
  {
   "cell_type": "code",
   "execution_count": null,
   "metadata": {},
   "outputs": [],
   "source": []
  },
  {
   "attachments": {},
   "cell_type": "markdown",
   "metadata": {},
   "source": [
    "# Elipse"
   ]
  },
  {
   "cell_type": "code",
   "execution_count": 15,
   "metadata": {},
   "outputs": [],
   "source": [
    "from math import sqrt\n",
    "\n",
    "def centro(params):\n",
    "    if is_elipse(params)[0]:\n",
    "        (A,B,D,E,F) = params \n",
    "        return [-D/(2*A),-E/(2*B)]\n",
    "    else:\n",
    "        print(\"Not an ellipse\")\n",
    "\n",
    "def ejes(params):\n",
    "    if is_elipse(params)[0]:\n",
    "        (A,B,D,E,F) = params \n",
    "        eje1 = (1/(2*A)*sqrt((B*D**2+A*E**2-4*A*B*F)/(B)))\n",
    "        eje2 = (1/(2*B)*sqrt((B*D**2+A*E**2-4*A*B*F)/(A)))\n",
    "        return (eje1,eje2)\n",
    "    else:\n",
    "        print(\"Not an ellipse\")\n",
    "\n",
    "def is_elipse(params):\n",
    "    (A,B,D,E,F) = params\n",
    "    x = B*D**2+A*E**2-4*A*B*F\n",
    "    if A*B>0:\n",
    "        if x>0:\n",
    "            return (True,x)\n",
    "        else:\n",
    "            return (False,x)\n",
    "    else:\n",
    "        return (False,x)"
   ]
  },
  {
   "cell_type": "code",
   "execution_count": 16,
   "metadata": {},
   "outputs": [
    {
     "name": "stdout",
     "output_type": "stream",
     "text": [
      "(True, 256)\n",
      "[-3.0, 3.0]\n",
      "(2.0, 4.0)\n"
     ]
    }
   ],
   "source": [
    "parametros = (4,1,24,-6,29)\n",
    "\n",
    "print(is_elipse(parametros))\n",
    "print(centro(parametros))\n",
    "print(ejes(parametros))"
   ]
  },
  {
   "cell_type": "code",
   "execution_count": 17,
   "metadata": {},
   "outputs": [
    {
     "name": "stdout",
     "output_type": "stream",
     "text": [
      "(True, 82944)\n",
      "[5.0, -6.0]\n",
      "(4.0, 3.0)\n"
     ]
    }
   ],
   "source": [
    "parametros = (9,16,-90,192,657)\n",
    "\n",
    "print(is_elipse(parametros))\n",
    "print(centro(parametros))\n",
    "print(ejes(parametros))"
   ]
  },
  {
   "cell_type": "code",
   "execution_count": 18,
   "metadata": {},
   "outputs": [
    {
     "name": "stdout",
     "output_type": "stream",
     "text": [
      "(True, 202500)\n",
      "[-1.0, 4.0]\n",
      "(3.0, 5.0)\n"
     ]
    }
   ],
   "source": [
    "parametros = (25,9,50,-72,-56)\n",
    "\n",
    "print(is_elipse(parametros))\n",
    "print(centro(parametros))\n",
    "print(ejes(parametros))"
   ]
  },
  {
   "cell_type": "code",
   "execution_count": 19,
   "metadata": {},
   "outputs": [
    {
     "name": "stdout",
     "output_type": "stream",
     "text": [
      "(False, 56700)\n",
      "Not an ellipse\n",
      "None\n",
      "Not an ellipse\n",
      "None\n"
     ]
    }
   ],
   "source": [
    "parametros = (25,-9,50,-72,-56)\n",
    "\n",
    "print(is_elipse(parametros))\n",
    "print(centro(parametros))\n",
    "print(ejes(parametros))"
   ]
  },
  {
   "attachments": {},
   "cell_type": "markdown",
   "metadata": {},
   "source": [
    "# Parábola"
   ]
  },
  {
   "cell_type": "code",
   "execution_count": 19,
   "metadata": {},
   "outputs": [],
   "source": [
    "def vertice(params):\n",
    "    if is_parabola(params):\n",
    "        (A,B,D,E,F) = params \n",
    "        if A==0:\n",
    "            return [(E**2-4*F)/(4*D),-E/2]\n",
    "        elif B==0:\n",
    "            return [-D/2,(D**2-4*F)/(4*E)]\n",
    "    else:\n",
    "        print(\"Not a parabol\")\n",
    "\n",
    "def p(params):\n",
    "    if is_parabola(params):\n",
    "        (A,B,D,E,F) = params \n",
    "        if A==0:\n",
    "            return -D/4\n",
    "        elif B==0:\n",
    "            return -E/4\n",
    "    else:\n",
    "        print(\"Not a parabol\")\n",
    "\n",
    "def is_parabola(params):\n",
    "    (A,B,D,E,F) = params\n",
    "    if A==0:\n",
    "        if D!=0:\n",
    "            return True\n",
    "        else:\n",
    "            return False\n",
    "    elif B==0:\n",
    "        if E!=0:\n",
    "            return True\n",
    "        else:\n",
    "            return False\n",
    "    else:\n",
    "        print(f\"A={A} or B={B} should be zero.\")\n",
    "        return False\n",
    "\n",
    "\n",
    "from functools import partial\n",
    "import numpy\n",
    "import scipy.optimize\n",
    "import matplotlib.pyplot as plt\n",
    "\n",
    "def dibujar(params):\n",
    "    if is_parabola(params):\n",
    "        (A,B,D,E,F) = params \n",
    "        def z(x, y):\n",
    "            return A*x**2 + B*y **2 + D*x + E*y + F\n",
    "        x_window = -10, 10\n",
    "        y_window = -10, 10\n",
    "        xs = []\n",
    "        ys = []\n",
    "        for x in numpy.linspace(*x_window, num=200):\n",
    "            try:\n",
    "                # A more efficient technique would use the last-found-y-value as a \n",
    "                # starting point\n",
    "                y = scipy.optimize.brentq(partial(z, x), *y_window)\n",
    "            except ValueError:\n",
    "                # Should we not be able to find a solution in this window.\n",
    "                pass\n",
    "            else:\n",
    "                xs.append(x)\n",
    "                ys.append(y)\n",
    "        plt.plot(xs, ys)\n",
    "        plt.xlim(*x_window)\n",
    "        plt.ylim(*y_window)\n",
    "        plt.show()"
   ]
  },
  {
   "cell_type": "code",
   "execution_count": 20,
   "metadata": {},
   "outputs": [
    {
     "name": "stdout",
     "output_type": "stream",
     "text": [
      "True\n",
      "Vértice: [-5.0, -2.125]\n",
      "p=4.0\n"
     ]
    },
    {
     "data": {
      "image/png": "[encoded data removed]",
      "text/plain": [
       "<Figure size 432x288 with 1 Axes>"
      ]
     },
     "metadata": {
      "needs_background": "light"
     },
     "output_type": "display_data"
    }
   ],
   "source": [
    "parametros = (1,0,10,-16,-9)\n",
    "\n",
    "print(is_parabola(parametros))\n",
    "print(f\"Vértice: {vertice(parametros)}\")\n",
    "print(f\"p={p(parametros)}\")\n",
    "dibujar(parametros)"
   ]
  },
  {
   "cell_type": "code",
   "execution_count": 21,
   "metadata": {},
   "outputs": [
    {
     "name": "stdout",
     "output_type": "stream",
     "text": [
      "True\n",
      "Vértice: [-2.0, 1.0]\n",
      "p=2.0\n"
     ]
    },
    {
     "data": {
      "image/png": "[encoded data removed]",
      "text/plain": [
       "<Figure size 432x288 with 1 Axes>"
      ]
     },
     "metadata": {
      "needs_background": "light"
     },
     "output_type": "display_data"
    }
   ],
   "source": [
    "parametros = (1,0,4,-8,12)\n",
    "\n",
    "print(is_parabola(parametros))\n",
    "print(f\"Vértice: {vertice(parametros)}\")\n",
    "print(f\"p={p(parametros)}\")\n",
    "dibujar(parametros)"
   ]
  },
  {
   "cell_type": "code",
   "execution_count": 22,
   "metadata": {},
   "outputs": [
    {
     "name": "stdout",
     "output_type": "stream",
     "text": [
      "A=1 or B=2 should be zero.\n",
      "False\n",
      "A=1 or B=2 should be zero.\n",
      "Not a parabol\n",
      "Vértice: None\n",
      "A=1 or B=2 should be zero.\n",
      "Not a parabol\n",
      "p=None\n",
      "A=1 or B=2 should be zero.\n"
     ]
    }
   ],
   "source": [
    "parametros = (1,2,2,-4,1)\n",
    "\n",
    "print(is_parabola(parametros))\n",
    "print(f\"Vértice: {vertice(parametros)}\")\n",
    "print(f\"p={p(parametros)}\")\n",
    "dibujar(parametros)"
   ]
  },
  {
   "cell_type": "code",
   "execution_count": 23,
   "metadata": {},
   "outputs": [
    {
     "name": "stdout",
     "output_type": "stream",
     "text": [
      "True\n",
      "Vértice: [1.5, 2.0]\n",
      "p=-0.5\n"
     ]
    },
    {
     "data": {
      "image/png": "[encoded data removed]",
      "text/plain": [
       "<Figure size 432x288 with 1 Axes>"
      ]
     },
     "metadata": {
      "needs_background": "light"
     },
     "output_type": "display_data"
    }
   ],
   "source": [
    "parametros = (0,1,2,-4,1)\n",
    "\n",
    "print(is_parabola(parametros))\n",
    "print(f\"Vértice: {vertice(parametros)}\")\n",
    "print(f\"p={p(parametros)}\")\n",
    "dibujar(parametros)"
   ]
  },
  {
   "cell_type": "code",
   "execution_count": 26,
   "metadata": {},
   "outputs": [
    {
     "name": "stdout",
     "output_type": "stream",
     "text": [
      "True\n",
      "Vértice: [-0.0, 2.0]\n",
      "p=0.75\n"
     ]
    },
    {
     "data": {
      "image/png": "[encoded data removed]",
      "text/plain": [
       "<Figure size 432x288 with 1 Axes>"
      ]
     },
     "metadata": {
      "needs_background": "light"
     },
     "output_type": "display_data"
    }
   ],
   "source": [
    "parametros = (0,1,-3,-4,4)\n",
    "\n",
    "print(is_parabola(parametros))\n",
    "print(f\"Vértice: {vertice(parametros)}\")\n",
    "print(f\"p={p(parametros)}\")\n",
    "dibujar(parametros)"
   ]
  },
  {
   "cell_type": "code",
   "execution_count": 30,
   "metadata": {},
   "outputs": [
    {
     "name": "stdout",
     "output_type": "stream",
     "text": [
      "True\n",
      "Vértice: [3.0, -0.5]\n",
      "p=-3.0\n"
     ]
    },
    {
     "data": {
      "image/png": "[encoded data removed]",
      "text/plain": [
       "<Figure size 432x288 with 1 Axes>"
      ]
     },
     "metadata": {
      "needs_background": "light"
     },
     "output_type": "display_data"
    }
   ],
   "source": [
    "parametros = (1,0,-6,12,15)\n",
    "\n",
    "print(is_parabola(parametros))\n",
    "print(f\"Vértice: {vertice(parametros)}\")\n",
    "print(f\"p={p(parametros)}\")\n",
    "dibujar(parametros)"
   ]
  },
  {
   "cell_type": "code",
   "execution_count": null,
   "metadata": {},
   "outputs": [],
   "source": []
  }
 ],
 "metadata": {
  "kernelspec": {
   "display_name": "Python 3",
   "language": "python",
   "name": "python3"
  },
  "language_info": {
   "codemirror_mode": {
    "name": "ipython",
    "version": 3
   },
   "file_extension": ".py",
   "mimetype": "text/x-python",
   "name": "python",
   "nbconvert_exporter": "python",
   "pygments_lexer": "ipython3",
   "version": "3.8.10"
  },
  "orig_nbformat": 4
 },
 "nbformat": 4,
 "nbformat_minor": 2
}
